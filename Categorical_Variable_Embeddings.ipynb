{
 "cells": [
  {
   "cell_type": "markdown",
   "metadata": {},
   "source": [
    "# Categorical Variable Embeddings"
   ]
  },
  {
   "cell_type": "markdown",
   "metadata": {},
   "source": [
    "In this activity we will build two different models\n",
    "\n",
    "    For first model, categorical attributes are convered in to dummy numeric variables\n",
    "    For second model, categorical attributes not convered in to numberic. Each level is given unique number starting with zero and categorical embedding is used "
   ]
  },
  {
   "cell_type": "markdown",
   "metadata": {},
   "source": [
    "#### Load the requied libraries"
   ]
  },
  {
   "cell_type": "code",
   "execution_count": 1,
   "metadata": {},
   "outputs": [
    {
     "name": "stderr",
     "output_type": "stream",
     "text": [
      "C:\\ProgramData\\Anaconda3\\lib\\site-packages\\h5py\\__init__.py:36: FutureWarning: Conversion of the second argument of issubdtype from `float` to `np.floating` is deprecated. In future, it will be treated as `np.float64 == np.dtype(float).type`.\n",
      "  from ._conv import register_converters as _register_converters\n",
      "Using TensorFlow backend.\n"
     ]
    }
   ],
   "source": [
    "import pandas as pd\n",
    "import numpy as np\n",
    "\n",
    "from keras.models import Sequential, Model\n",
    "from keras.layers import Dense, Activation, Embedding, concatenate, Flatten, Input\n",
    "\n",
    "from sklearn.model_selection import train_test_split\n",
    "from sklearn.preprocessing import MinMaxScaler"
   ]
  },
  {
   "cell_type": "markdown",
   "metadata": {},
   "source": [
    "#### Read the data"
   ]
  },
  {
   "cell_type": "code",
   "execution_count": 2,
   "metadata": {},
   "outputs": [],
   "source": [
    "df = pd.read_csv('cmc.data', header=None, names=['Age','Education','H_education',\n",
    "                                                 'num_child','Religion', 'Employ',\n",
    "                                                 'H_occupation','living_standard',\n",
    "                                                 'Media_exposure','contraceptive'])"
   ]
  },
  {
   "cell_type": "markdown",
   "metadata": {},
   "source": [
    "#### Understand the data"
   ]
  },
  {
   "cell_type": "code",
   "execution_count": 3,
   "metadata": {},
   "outputs": [
    {
     "data": {
      "text/plain": [
       "(1473, 10)"
      ]
     },
     "execution_count": 3,
     "metadata": {},
     "output_type": "execute_result"
    }
   ],
   "source": [
    "df.shape"
   ]
  },
  {
   "cell_type": "markdown",
   "metadata": {},
   "source": [
    "Look at first few records"
   ]
  },
  {
   "cell_type": "code",
   "execution_count": 4,
   "metadata": {},
   "outputs": [
    {
     "data": {
      "text/html": [
       "<div>\n",
       "<style scoped>\n",
       "    .dataframe tbody tr th:only-of-type {\n",
       "        vertical-align: middle;\n",
       "    }\n",
       "\n",
       "    .dataframe tbody tr th {\n",
       "        vertical-align: top;\n",
       "    }\n",
       "\n",
       "    .dataframe thead th {\n",
       "        text-align: right;\n",
       "    }\n",
       "</style>\n",
       "<table border=\"1\" class=\"dataframe\">\n",
       "  <thead>\n",
       "    <tr style=\"text-align: right;\">\n",
       "      <th></th>\n",
       "      <th>Age</th>\n",
       "      <th>Education</th>\n",
       "      <th>H_education</th>\n",
       "      <th>num_child</th>\n",
       "      <th>Religion</th>\n",
       "      <th>Employ</th>\n",
       "      <th>H_occupation</th>\n",
       "      <th>living_standard</th>\n",
       "      <th>Media_exposure</th>\n",
       "      <th>contraceptive</th>\n",
       "    </tr>\n",
       "  </thead>\n",
       "  <tbody>\n",
       "    <tr>\n",
       "      <th>0</th>\n",
       "      <td>24</td>\n",
       "      <td>2</td>\n",
       "      <td>3</td>\n",
       "      <td>3</td>\n",
       "      <td>1</td>\n",
       "      <td>1</td>\n",
       "      <td>2</td>\n",
       "      <td>3</td>\n",
       "      <td>0</td>\n",
       "      <td>1</td>\n",
       "    </tr>\n",
       "    <tr>\n",
       "      <th>1</th>\n",
       "      <td>45</td>\n",
       "      <td>1</td>\n",
       "      <td>3</td>\n",
       "      <td>10</td>\n",
       "      <td>1</td>\n",
       "      <td>1</td>\n",
       "      <td>3</td>\n",
       "      <td>4</td>\n",
       "      <td>0</td>\n",
       "      <td>1</td>\n",
       "    </tr>\n",
       "    <tr>\n",
       "      <th>2</th>\n",
       "      <td>43</td>\n",
       "      <td>2</td>\n",
       "      <td>3</td>\n",
       "      <td>7</td>\n",
       "      <td>1</td>\n",
       "      <td>1</td>\n",
       "      <td>3</td>\n",
       "      <td>4</td>\n",
       "      <td>0</td>\n",
       "      <td>1</td>\n",
       "    </tr>\n",
       "    <tr>\n",
       "      <th>3</th>\n",
       "      <td>42</td>\n",
       "      <td>3</td>\n",
       "      <td>2</td>\n",
       "      <td>9</td>\n",
       "      <td>1</td>\n",
       "      <td>1</td>\n",
       "      <td>3</td>\n",
       "      <td>3</td>\n",
       "      <td>0</td>\n",
       "      <td>1</td>\n",
       "    </tr>\n",
       "    <tr>\n",
       "      <th>4</th>\n",
       "      <td>36</td>\n",
       "      <td>3</td>\n",
       "      <td>3</td>\n",
       "      <td>8</td>\n",
       "      <td>1</td>\n",
       "      <td>1</td>\n",
       "      <td>3</td>\n",
       "      <td>2</td>\n",
       "      <td>0</td>\n",
       "      <td>1</td>\n",
       "    </tr>\n",
       "  </tbody>\n",
       "</table>\n",
       "</div>"
      ],
      "text/plain": [
       "   Age  Education  H_education  num_child  Religion  Employ  H_occupation  \\\n",
       "0   24          2            3          3         1       1             2   \n",
       "1   45          1            3         10         1       1             3   \n",
       "2   43          2            3          7         1       1             3   \n",
       "3   42          3            2          9         1       1             3   \n",
       "4   36          3            3          8         1       1             3   \n",
       "\n",
       "   living_standard  Media_exposure  contraceptive  \n",
       "0                3               0              1  \n",
       "1                4               0              1  \n",
       "2                4               0              1  \n",
       "3                3               0              1  \n",
       "4                2               0              1  "
      ]
     },
     "execution_count": 4,
     "metadata": {},
     "output_type": "execute_result"
    }
   ],
   "source": [
    "df.head()"
   ]
  },
  {
   "cell_type": "markdown",
   "metadata": {},
   "source": [
    "Summary statistics "
   ]
  },
  {
   "cell_type": "code",
   "execution_count": 5,
   "metadata": {},
   "outputs": [
    {
     "data": {
      "text/html": [
       "<div>\n",
       "<style scoped>\n",
       "    .dataframe tbody tr th:only-of-type {\n",
       "        vertical-align: middle;\n",
       "    }\n",
       "\n",
       "    .dataframe tbody tr th {\n",
       "        vertical-align: top;\n",
       "    }\n",
       "\n",
       "    .dataframe thead th {\n",
       "        text-align: right;\n",
       "    }\n",
       "</style>\n",
       "<table border=\"1\" class=\"dataframe\">\n",
       "  <thead>\n",
       "    <tr style=\"text-align: right;\">\n",
       "      <th></th>\n",
       "      <th>Age</th>\n",
       "      <th>Education</th>\n",
       "      <th>H_education</th>\n",
       "      <th>num_child</th>\n",
       "      <th>Religion</th>\n",
       "      <th>Employ</th>\n",
       "      <th>H_occupation</th>\n",
       "      <th>living_standard</th>\n",
       "      <th>Media_exposure</th>\n",
       "      <th>contraceptive</th>\n",
       "    </tr>\n",
       "  </thead>\n",
       "  <tbody>\n",
       "    <tr>\n",
       "      <th>count</th>\n",
       "      <td>1473.000000</td>\n",
       "      <td>1473.000000</td>\n",
       "      <td>1473.000000</td>\n",
       "      <td>1473.000000</td>\n",
       "      <td>1473.000000</td>\n",
       "      <td>1473.000000</td>\n",
       "      <td>1473.000000</td>\n",
       "      <td>1473.000000</td>\n",
       "      <td>1473.000000</td>\n",
       "      <td>1473.000000</td>\n",
       "    </tr>\n",
       "    <tr>\n",
       "      <th>mean</th>\n",
       "      <td>32.538357</td>\n",
       "      <td>2.958588</td>\n",
       "      <td>3.429735</td>\n",
       "      <td>3.261371</td>\n",
       "      <td>0.850645</td>\n",
       "      <td>0.749491</td>\n",
       "      <td>2.137814</td>\n",
       "      <td>3.133741</td>\n",
       "      <td>0.073999</td>\n",
       "      <td>1.919891</td>\n",
       "    </tr>\n",
       "    <tr>\n",
       "      <th>std</th>\n",
       "      <td>8.227245</td>\n",
       "      <td>1.014994</td>\n",
       "      <td>0.816349</td>\n",
       "      <td>2.358549</td>\n",
       "      <td>0.356559</td>\n",
       "      <td>0.433453</td>\n",
       "      <td>0.864857</td>\n",
       "      <td>0.976161</td>\n",
       "      <td>0.261858</td>\n",
       "      <td>0.876376</td>\n",
       "    </tr>\n",
       "    <tr>\n",
       "      <th>min</th>\n",
       "      <td>16.000000</td>\n",
       "      <td>1.000000</td>\n",
       "      <td>1.000000</td>\n",
       "      <td>0.000000</td>\n",
       "      <td>0.000000</td>\n",
       "      <td>0.000000</td>\n",
       "      <td>1.000000</td>\n",
       "      <td>1.000000</td>\n",
       "      <td>0.000000</td>\n",
       "      <td>1.000000</td>\n",
       "    </tr>\n",
       "    <tr>\n",
       "      <th>25%</th>\n",
       "      <td>26.000000</td>\n",
       "      <td>2.000000</td>\n",
       "      <td>3.000000</td>\n",
       "      <td>1.000000</td>\n",
       "      <td>1.000000</td>\n",
       "      <td>0.000000</td>\n",
       "      <td>1.000000</td>\n",
       "      <td>3.000000</td>\n",
       "      <td>0.000000</td>\n",
       "      <td>1.000000</td>\n",
       "    </tr>\n",
       "    <tr>\n",
       "      <th>50%</th>\n",
       "      <td>32.000000</td>\n",
       "      <td>3.000000</td>\n",
       "      <td>4.000000</td>\n",
       "      <td>3.000000</td>\n",
       "      <td>1.000000</td>\n",
       "      <td>1.000000</td>\n",
       "      <td>2.000000</td>\n",
       "      <td>3.000000</td>\n",
       "      <td>0.000000</td>\n",
       "      <td>2.000000</td>\n",
       "    </tr>\n",
       "    <tr>\n",
       "      <th>75%</th>\n",
       "      <td>39.000000</td>\n",
       "      <td>4.000000</td>\n",
       "      <td>4.000000</td>\n",
       "      <td>4.000000</td>\n",
       "      <td>1.000000</td>\n",
       "      <td>1.000000</td>\n",
       "      <td>3.000000</td>\n",
       "      <td>4.000000</td>\n",
       "      <td>0.000000</td>\n",
       "      <td>3.000000</td>\n",
       "    </tr>\n",
       "    <tr>\n",
       "      <th>max</th>\n",
       "      <td>49.000000</td>\n",
       "      <td>4.000000</td>\n",
       "      <td>4.000000</td>\n",
       "      <td>16.000000</td>\n",
       "      <td>1.000000</td>\n",
       "      <td>1.000000</td>\n",
       "      <td>4.000000</td>\n",
       "      <td>4.000000</td>\n",
       "      <td>1.000000</td>\n",
       "      <td>3.000000</td>\n",
       "    </tr>\n",
       "  </tbody>\n",
       "</table>\n",
       "</div>"
      ],
      "text/plain": [
       "               Age    Education  H_education    num_child     Religion  \\\n",
       "count  1473.000000  1473.000000  1473.000000  1473.000000  1473.000000   \n",
       "mean     32.538357     2.958588     3.429735     3.261371     0.850645   \n",
       "std       8.227245     1.014994     0.816349     2.358549     0.356559   \n",
       "min      16.000000     1.000000     1.000000     0.000000     0.000000   \n",
       "25%      26.000000     2.000000     3.000000     1.000000     1.000000   \n",
       "50%      32.000000     3.000000     4.000000     3.000000     1.000000   \n",
       "75%      39.000000     4.000000     4.000000     4.000000     1.000000   \n",
       "max      49.000000     4.000000     4.000000    16.000000     1.000000   \n",
       "\n",
       "            Employ  H_occupation  living_standard  Media_exposure  \\\n",
       "count  1473.000000   1473.000000      1473.000000     1473.000000   \n",
       "mean      0.749491      2.137814         3.133741        0.073999   \n",
       "std       0.433453      0.864857         0.976161        0.261858   \n",
       "min       0.000000      1.000000         1.000000        0.000000   \n",
       "25%       0.000000      1.000000         3.000000        0.000000   \n",
       "50%       1.000000      2.000000         3.000000        0.000000   \n",
       "75%       1.000000      3.000000         4.000000        0.000000   \n",
       "max       1.000000      4.000000         4.000000        1.000000   \n",
       "\n",
       "       contraceptive  \n",
       "count    1473.000000  \n",
       "mean        1.919891  \n",
       "std         0.876376  \n",
       "min         1.000000  \n",
       "25%         1.000000  \n",
       "50%         2.000000  \n",
       "75%         3.000000  \n",
       "max         3.000000  "
      ]
     },
     "execution_count": 5,
     "metadata": {},
     "output_type": "execute_result"
    }
   ],
   "source": [
    "df.describe(include='all')"
   ]
  },
  {
   "cell_type": "markdown",
   "metadata": {},
   "source": [
    "Type of all the attributes"
   ]
  },
  {
   "cell_type": "code",
   "execution_count": 6,
   "metadata": {},
   "outputs": [
    {
     "data": {
      "text/plain": [
       "Age                int64\n",
       "Education          int64\n",
       "H_education        int64\n",
       "num_child          int64\n",
       "Religion           int64\n",
       "Employ             int64\n",
       "H_occupation       int64\n",
       "living_standard    int64\n",
       "Media_exposure     int64\n",
       "contraceptive      int64\n",
       "dtype: object"
      ]
     },
     "execution_count": 6,
     "metadata": {},
     "output_type": "execute_result"
    }
   ],
   "source": [
    "df.dtypes"
   ]
  },
  {
   "cell_type": "markdown",
   "metadata": {},
   "source": [
    "Identify the unique values for each of the attributes"
   ]
  },
  {
   "cell_type": "code",
   "execution_count": 7,
   "metadata": {},
   "outputs": [
    {
     "name": "stdout",
     "output_type": "stream",
     "text": [
      "Age\n",
      "25    80\n",
      "26    69\n",
      "32    64\n",
      "30    64\n",
      "28    63\n",
      "35    62\n",
      "24    61\n",
      "22    59\n",
      "27    59\n",
      "29    59\n",
      "36    57\n",
      "33    55\n",
      "37    51\n",
      "34    50\n",
      "21    48\n",
      "31    46\n",
      "23    44\n",
      "38    44\n",
      "47    43\n",
      "45    41\n",
      "42    40\n",
      "44    39\n",
      "43    34\n",
      "39    34\n",
      "40    34\n",
      "41    34\n",
      "48    30\n",
      "20    28\n",
      "49    23\n",
      "46    22\n",
      "19    18\n",
      "17     8\n",
      "18     7\n",
      "16     3\n",
      "dtype: int64\n",
      "Education\n",
      "4    577\n",
      "3    410\n",
      "2    334\n",
      "1    152\n",
      "dtype: int64\n",
      "H_education\n",
      "4    899\n",
      "3    352\n",
      "2    178\n",
      "1     44\n",
      "dtype: int64\n",
      "num_child\n",
      "2     276\n",
      "1     276\n",
      "3     259\n",
      "4     197\n",
      "5     135\n",
      "0      97\n",
      "6      92\n",
      "7      49\n",
      "8      47\n",
      "9      16\n",
      "11     11\n",
      "10     11\n",
      "12      4\n",
      "13      2\n",
      "16      1\n",
      "dtype: int64\n",
      "Religion\n",
      "1    1253\n",
      "0     220\n",
      "dtype: int64\n",
      "Employ\n",
      "1    1104\n",
      "0     369\n",
      "dtype: int64\n",
      "H_occupation\n",
      "3    585\n",
      "1    436\n",
      "2    425\n",
      "4     27\n",
      "dtype: int64\n",
      "living_standard\n",
      "4    684\n",
      "3    431\n",
      "2    229\n",
      "1    129\n",
      "dtype: int64\n",
      "Media_exposure\n",
      "0    1364\n",
      "1     109\n",
      "dtype: int64\n",
      "contraceptive\n",
      "1    629\n",
      "3    511\n",
      "2    333\n",
      "dtype: int64\n"
     ]
    }
   ],
   "source": [
    "for i in df.columns.values:\n",
    "    print (i)\n",
    "    print (pd.value_counts(df[i].values))"
   ]
  },
  {
   "cell_type": "markdown",
   "metadata": {},
   "source": [
    "Observation:\n",
    "\n",
    "    Education, H_education, Religion, Employ, H_occupation, living_standard, Media_exposure and Contraceptive are having fixed set of values. Even though they are number they are Categorical Attributes. "
   ]
  },
  {
   "cell_type": "markdown",
   "metadata": {},
   "source": [
    "Note: \n",
    "    \n",
    "    Religion, Employ and Media_exposure are Categorical attributes with only two values/levels.\n",
    "    Even after converting them to numeric using dummification, they will still have same 0 and 1 values, so directly took them as Numeric attributes."
   ]
  },
  {
   "cell_type": "markdown",
   "metadata": {},
   "source": [
    "##### Following two cells are for explination purpose"
   ]
  },
  {
   "cell_type": "code",
   "execution_count": 8,
   "metadata": {},
   "outputs": [
    {
     "data": {
      "text/plain": [
       "1    629\n",
       "3    511\n",
       "2    333\n",
       "dtype: int64"
      ]
     },
     "execution_count": 8,
     "metadata": {},
     "output_type": "execute_result"
    }
   ],
   "source": [
    "pd.value_counts(df.contraceptive.values)"
   ]
  },
  {
   "cell_type": "code",
   "execution_count": 9,
   "metadata": {},
   "outputs": [
    {
     "data": {
      "text/plain": [
       "0    629\n",
       "2    511\n",
       "1    333\n",
       "dtype: int64"
      ]
     },
     "execution_count": 9,
     "metadata": {},
     "output_type": "execute_result"
    }
   ],
   "source": [
    "pd.value_counts(df.contraceptive.values-1)"
   ]
  },
  {
   "cell_type": "markdown",
   "metadata": {},
   "source": [
    "For second model, each level/value in each independent categorical attribute is represented as number starting with zero \n",
    "\n",
    "    All categorical attributes has levels starting with 1, so substract one."
   ]
  },
  {
   "cell_type": "code",
   "execution_count": 10,
   "metadata": {},
   "outputs": [],
   "source": [
    "df[['Education', 'H_education', 'H_occupation', 'living_standard', 'contraceptive']] = df[['Education', 'H_education', 'H_occupation', 'living_standard', 'contraceptive']] -1"
   ]
  },
  {
   "cell_type": "code",
   "execution_count": 11,
   "metadata": {},
   "outputs": [],
   "source": [
    "edu_ind_attr = df.Education.values\n",
    "h_edu_ind_attr = df.H_education.values\n",
    "h_occ_ind_attr = df.H_occupation.values\n",
    "liv_std_ind_attr = df.living_standard.values "
   ]
  },
  {
   "cell_type": "markdown",
   "metadata": {},
   "source": [
    "Convert the attributes to appropriate type"
   ]
  },
  {
   "cell_type": "code",
   "execution_count": 12,
   "metadata": {},
   "outputs": [],
   "source": [
    "for col in ['Education', 'H_education', 'H_occupation', 'living_standard', 'contraceptive']:\n",
    "    df[col] = df[col].astype('category')"
   ]
  },
  {
   "cell_type": "code",
   "execution_count": 13,
   "metadata": {},
   "outputs": [
    {
     "data": {
      "text/plain": [
       "Age                   int64\n",
       "Education          category\n",
       "H_education        category\n",
       "num_child             int64\n",
       "Religion              int64\n",
       "Employ                int64\n",
       "H_occupation       category\n",
       "living_standard    category\n",
       "Media_exposure        int64\n",
       "contraceptive      category\n",
       "dtype: object"
      ]
     },
     "execution_count": 13,
     "metadata": {},
     "output_type": "execute_result"
    }
   ],
   "source": [
    "df.dtypes"
   ]
  },
  {
   "cell_type": "markdown",
   "metadata": {},
   "source": [
    "Summary Statistics"
   ]
  },
  {
   "cell_type": "code",
   "execution_count": 14,
   "metadata": {},
   "outputs": [
    {
     "data": {
      "text/html": [
       "<div>\n",
       "<style scoped>\n",
       "    .dataframe tbody tr th:only-of-type {\n",
       "        vertical-align: middle;\n",
       "    }\n",
       "\n",
       "    .dataframe tbody tr th {\n",
       "        vertical-align: top;\n",
       "    }\n",
       "\n",
       "    .dataframe thead th {\n",
       "        text-align: right;\n",
       "    }\n",
       "</style>\n",
       "<table border=\"1\" class=\"dataframe\">\n",
       "  <thead>\n",
       "    <tr style=\"text-align: right;\">\n",
       "      <th></th>\n",
       "      <th>Age</th>\n",
       "      <th>Education</th>\n",
       "      <th>H_education</th>\n",
       "      <th>num_child</th>\n",
       "      <th>Religion</th>\n",
       "      <th>Employ</th>\n",
       "      <th>H_occupation</th>\n",
       "      <th>living_standard</th>\n",
       "      <th>Media_exposure</th>\n",
       "      <th>contraceptive</th>\n",
       "    </tr>\n",
       "  </thead>\n",
       "  <tbody>\n",
       "    <tr>\n",
       "      <th>count</th>\n",
       "      <td>1473.000000</td>\n",
       "      <td>1473.0</td>\n",
       "      <td>1473.0</td>\n",
       "      <td>1473.000000</td>\n",
       "      <td>1473.000000</td>\n",
       "      <td>1473.000000</td>\n",
       "      <td>1473.0</td>\n",
       "      <td>1473.0</td>\n",
       "      <td>1473.000000</td>\n",
       "      <td>1473.0</td>\n",
       "    </tr>\n",
       "    <tr>\n",
       "      <th>unique</th>\n",
       "      <td>NaN</td>\n",
       "      <td>4.0</td>\n",
       "      <td>4.0</td>\n",
       "      <td>NaN</td>\n",
       "      <td>NaN</td>\n",
       "      <td>NaN</td>\n",
       "      <td>4.0</td>\n",
       "      <td>4.0</td>\n",
       "      <td>NaN</td>\n",
       "      <td>3.0</td>\n",
       "    </tr>\n",
       "    <tr>\n",
       "      <th>top</th>\n",
       "      <td>NaN</td>\n",
       "      <td>3.0</td>\n",
       "      <td>3.0</td>\n",
       "      <td>NaN</td>\n",
       "      <td>NaN</td>\n",
       "      <td>NaN</td>\n",
       "      <td>2.0</td>\n",
       "      <td>3.0</td>\n",
       "      <td>NaN</td>\n",
       "      <td>0.0</td>\n",
       "    </tr>\n",
       "    <tr>\n",
       "      <th>freq</th>\n",
       "      <td>NaN</td>\n",
       "      <td>577.0</td>\n",
       "      <td>899.0</td>\n",
       "      <td>NaN</td>\n",
       "      <td>NaN</td>\n",
       "      <td>NaN</td>\n",
       "      <td>585.0</td>\n",
       "      <td>684.0</td>\n",
       "      <td>NaN</td>\n",
       "      <td>629.0</td>\n",
       "    </tr>\n",
       "    <tr>\n",
       "      <th>mean</th>\n",
       "      <td>32.538357</td>\n",
       "      <td>NaN</td>\n",
       "      <td>NaN</td>\n",
       "      <td>3.261371</td>\n",
       "      <td>0.850645</td>\n",
       "      <td>0.749491</td>\n",
       "      <td>NaN</td>\n",
       "      <td>NaN</td>\n",
       "      <td>0.073999</td>\n",
       "      <td>NaN</td>\n",
       "    </tr>\n",
       "    <tr>\n",
       "      <th>std</th>\n",
       "      <td>8.227245</td>\n",
       "      <td>NaN</td>\n",
       "      <td>NaN</td>\n",
       "      <td>2.358549</td>\n",
       "      <td>0.356559</td>\n",
       "      <td>0.433453</td>\n",
       "      <td>NaN</td>\n",
       "      <td>NaN</td>\n",
       "      <td>0.261858</td>\n",
       "      <td>NaN</td>\n",
       "    </tr>\n",
       "    <tr>\n",
       "      <th>min</th>\n",
       "      <td>16.000000</td>\n",
       "      <td>NaN</td>\n",
       "      <td>NaN</td>\n",
       "      <td>0.000000</td>\n",
       "      <td>0.000000</td>\n",
       "      <td>0.000000</td>\n",
       "      <td>NaN</td>\n",
       "      <td>NaN</td>\n",
       "      <td>0.000000</td>\n",
       "      <td>NaN</td>\n",
       "    </tr>\n",
       "    <tr>\n",
       "      <th>25%</th>\n",
       "      <td>26.000000</td>\n",
       "      <td>NaN</td>\n",
       "      <td>NaN</td>\n",
       "      <td>1.000000</td>\n",
       "      <td>1.000000</td>\n",
       "      <td>0.000000</td>\n",
       "      <td>NaN</td>\n",
       "      <td>NaN</td>\n",
       "      <td>0.000000</td>\n",
       "      <td>NaN</td>\n",
       "    </tr>\n",
       "    <tr>\n",
       "      <th>50%</th>\n",
       "      <td>32.000000</td>\n",
       "      <td>NaN</td>\n",
       "      <td>NaN</td>\n",
       "      <td>3.000000</td>\n",
       "      <td>1.000000</td>\n",
       "      <td>1.000000</td>\n",
       "      <td>NaN</td>\n",
       "      <td>NaN</td>\n",
       "      <td>0.000000</td>\n",
       "      <td>NaN</td>\n",
       "    </tr>\n",
       "    <tr>\n",
       "      <th>75%</th>\n",
       "      <td>39.000000</td>\n",
       "      <td>NaN</td>\n",
       "      <td>NaN</td>\n",
       "      <td>4.000000</td>\n",
       "      <td>1.000000</td>\n",
       "      <td>1.000000</td>\n",
       "      <td>NaN</td>\n",
       "      <td>NaN</td>\n",
       "      <td>0.000000</td>\n",
       "      <td>NaN</td>\n",
       "    </tr>\n",
       "    <tr>\n",
       "      <th>max</th>\n",
       "      <td>49.000000</td>\n",
       "      <td>NaN</td>\n",
       "      <td>NaN</td>\n",
       "      <td>16.000000</td>\n",
       "      <td>1.000000</td>\n",
       "      <td>1.000000</td>\n",
       "      <td>NaN</td>\n",
       "      <td>NaN</td>\n",
       "      <td>1.000000</td>\n",
       "      <td>NaN</td>\n",
       "    </tr>\n",
       "  </tbody>\n",
       "</table>\n",
       "</div>"
      ],
      "text/plain": [
       "                Age  Education  H_education    num_child     Religion  \\\n",
       "count   1473.000000     1473.0       1473.0  1473.000000  1473.000000   \n",
       "unique          NaN        4.0          4.0          NaN          NaN   \n",
       "top             NaN        3.0          3.0          NaN          NaN   \n",
       "freq            NaN      577.0        899.0          NaN          NaN   \n",
       "mean      32.538357        NaN          NaN     3.261371     0.850645   \n",
       "std        8.227245        NaN          NaN     2.358549     0.356559   \n",
       "min       16.000000        NaN          NaN     0.000000     0.000000   \n",
       "25%       26.000000        NaN          NaN     1.000000     1.000000   \n",
       "50%       32.000000        NaN          NaN     3.000000     1.000000   \n",
       "75%       39.000000        NaN          NaN     4.000000     1.000000   \n",
       "max       49.000000        NaN          NaN    16.000000     1.000000   \n",
       "\n",
       "             Employ  H_occupation  living_standard  Media_exposure  \\\n",
       "count   1473.000000        1473.0           1473.0     1473.000000   \n",
       "unique          NaN           4.0              4.0             NaN   \n",
       "top             NaN           2.0              3.0             NaN   \n",
       "freq            NaN         585.0            684.0             NaN   \n",
       "mean       0.749491           NaN              NaN        0.073999   \n",
       "std        0.433453           NaN              NaN        0.261858   \n",
       "min        0.000000           NaN              NaN        0.000000   \n",
       "25%        0.000000           NaN              NaN        0.000000   \n",
       "50%        1.000000           NaN              NaN        0.000000   \n",
       "75%        1.000000           NaN              NaN        0.000000   \n",
       "max        1.000000           NaN              NaN        1.000000   \n",
       "\n",
       "        contraceptive  \n",
       "count          1473.0  \n",
       "unique            3.0  \n",
       "top               0.0  \n",
       "freq            629.0  \n",
       "mean              NaN  \n",
       "std               NaN  \n",
       "min               NaN  \n",
       "25%               NaN  \n",
       "50%               NaN  \n",
       "75%               NaN  \n",
       "max               NaN  "
      ]
     },
     "execution_count": 14,
     "metadata": {},
     "output_type": "execute_result"
    }
   ],
   "source": [
    "df.describe(include = \"all\")"
   ]
  },
  {
   "cell_type": "markdown",
   "metadata": {},
   "source": [
    "#### Missing value imputation"
   ]
  },
  {
   "cell_type": "code",
   "execution_count": 15,
   "metadata": {},
   "outputs": [
    {
     "data": {
      "text/plain": [
       "Age                0\n",
       "Education          0\n",
       "H_education        0\n",
       "num_child          0\n",
       "Religion           0\n",
       "Employ             0\n",
       "H_occupation       0\n",
       "living_standard    0\n",
       "Media_exposure     0\n",
       "contraceptive      0\n",
       "dtype: int64"
      ]
     },
     "execution_count": 15,
     "metadata": {},
     "output_type": "execute_result"
    }
   ],
   "source": [
    "0.9866301014616683df.isnull().sum()"
   ]
  },
  {
   "cell_type": "markdown",
   "metadata": {},
   "source": [
    "#### Select only numeric independent attributes"
   ]
  },
  {
   "cell_type": "code",
   "execution_count": 16,
   "metadata": {},
   "outputs": [],
   "source": [
    "num_ind_attr_names = df.select_dtypes(include=['int64']).columns"
   ]
  },
  {
   "cell_type": "code",
   "execution_count": 17,
   "metadata": {},
   "outputs": [],
   "source": [
    "num_ind_attr = df[num_ind_attr_names]"
   ]
  },
  {
   "cell_type": "code",
   "execution_count": 18,
   "metadata": {},
   "outputs": [
    {
     "data": {
      "text/html": [
       "<div>\n",
       "<style scoped>\n",
       "    .dataframe tbody tr th:only-of-type {\n",
       "        vertical-align: middle;\n",
       "    }\n",
       "\n",
       "    .dataframe tbody tr th {\n",
       "        vertical-align: top;\n",
       "    }\n",
       "\n",
       "    .dataframe thead th {\n",
       "        text-align: right;\n",
       "    }\n",
       "</style>\n",
       "<table border=\"1\" class=\"dataframe\">\n",
       "  <thead>\n",
       "    <tr style=\"text-align: right;\">\n",
       "      <th></th>\n",
       "      <th>Age</th>\n",
       "      <th>num_child</th>\n",
       "      <th>Religion</th>\n",
       "      <th>Employ</th>\n",
       "      <th>Media_exposure</th>\n",
       "    </tr>\n",
       "  </thead>\n",
       "  <tbody>\n",
       "    <tr>\n",
       "      <th>0</th>\n",
       "      <td>24</td>\n",
       "      <td>3</td>\n",
       "      <td>1</td>\n",
       "      <td>1</td>\n",
       "      <td>0</td>\n",
       "    </tr>\n",
       "    <tr>\n",
       "      <th>1</th>\n",
       "      <td>45</td>\n",
       "      <td>10</td>\n",
       "      <td>1</td>\n",
       "      <td>1</td>\n",
       "      <td>0</td>\n",
       "    </tr>\n",
       "    <tr>\n",
       "      <th>2</th>\n",
       "      <td>43</td>\n",
       "      <td>7</td>\n",
       "      <td>1</td>\n",
       "      <td>1</td>\n",
       "      <td>0</td>\n",
       "    </tr>\n",
       "    <tr>\n",
       "      <th>3</th>\n",
       "      <td>42</td>\n",
       "      <td>9</td>\n",
       "      <td>1</td>\n",
       "      <td>1</td>\n",
       "      <td>0</td>\n",
       "    </tr>\n",
       "    <tr>\n",
       "      <th>4</th>\n",
       "      <td>36</td>\n",
       "      <td>8</td>\n",
       "      <td>1</td>\n",
       "      <td>1</td>\n",
       "      <td>0</td>\n",
       "    </tr>\n",
       "  </tbody>\n",
       "</table>\n",
       "</div>"
      ],
      "text/plain": [
       "   Age  num_child  Religion  Employ  Media_exposure\n",
       "0   24          3         1       1               0\n",
       "1   45         10         1       1               0\n",
       "2   43          7         1       1               0\n",
       "3   42          9         1       1               0\n",
       "4   36          8         1       1               0"
      ]
     },
     "execution_count": 18,
     "metadata": {},
     "output_type": "execute_result"
    }
   ],
   "source": [
    "num_ind_attr.head()"
   ]
  },
  {
   "cell_type": "markdown",
   "metadata": {},
   "source": [
    "#### Min Max Scaling"
   ]
  },
  {
   "cell_type": "code",
   "execution_count": 19,
   "metadata": {},
   "outputs": [],
   "source": [
    "scaler = MinMaxScaler()\n",
    "\n",
    "scaled_num_ind_attr = scaler.fit_transform(num_ind_attr) "
   ]
  },
  {
   "cell_type": "code",
   "execution_count": 20,
   "metadata": {},
   "outputs": [
    {
     "data": {
      "text/plain": [
       "array([[0.24242424, 0.1875    , 1.        , 1.        , 0.        ],\n",
       "       [0.87878788, 0.625     , 1.        , 1.        , 0.        ],\n",
       "       [0.81818182, 0.4375    , 1.        , 1.        , 0.        ],\n",
       "       ...,\n",
       "       [0.6969697 , 0.5       , 1.        , 0.        , 0.        ],\n",
       "       [0.51515152, 0.25      , 1.        , 0.        , 0.        ],\n",
       "       [0.03030303, 0.0625    , 1.        , 1.        , 0.        ]])"
      ]
     },
     "execution_count": 20,
     "metadata": {},
     "output_type": "execute_result"
    }
   ],
   "source": [
    "scaled_num_ind_attr"
   ]
  },
  {
   "cell_type": "markdown",
   "metadata": {},
   "source": [
    "#### Select categorical attributes"
   ]
  },
  {
   "cell_type": "code",
   "execution_count": 21,
   "metadata": {},
   "outputs": [
    {
     "data": {
      "text/plain": [
       "Index(['Education', 'H_education', 'H_occupation', 'living_standard',\n",
       "       'contraceptive'],\n",
       "      dtype='object')"
      ]
     },
     "execution_count": 21,
     "metadata": {},
     "output_type": "execute_result"
    }
   ],
   "source": [
    "cat_attr_names = df.select_dtypes(include=['category']).columns\n",
    "\n",
    "cat_attr_names"
   ]
  },
  {
   "cell_type": "code",
   "execution_count": 22,
   "metadata": {},
   "outputs": [
    {
     "name": "stdout",
     "output_type": "stream",
     "text": [
      "Index(['Education', 'H_education', 'H_occupation', 'living_standard'], dtype='object')\n"
     ]
    }
   ],
   "source": [
    "cat_ind_attr_names = cat_attr_names[cat_attr_names != 'contraceptive']\n",
    "\n",
    "print(cat_ind_attr_names)\n",
    "\n",
    "cat_tar_attr_names = ['contraceptive']"
   ]
  },
  {
   "cell_type": "markdown",
   "metadata": {},
   "source": [
    "#### Dummification \n",
    "    \n",
    "    For first model, convert independetn categorical attributes to numeric using dummificcation\n",
    "    \n",
    "    Target categorical attribut has more than two level. For both the models, target categorical attribute is convert to numeric use dummification."
   ]
  },
  {
   "cell_type": "markdown",
   "metadata": {},
   "source": [
    "Convert independent categorical attribute to numeric using dummification "
   ]
  },
  {
   "cell_type": "code",
   "execution_count": 23,
   "metadata": {},
   "outputs": [],
   "source": [
    "cat_ind_attr = pd.get_dummies(df[cat_ind_attr_names]).values"
   ]
  },
  {
   "cell_type": "code",
   "execution_count": 24,
   "metadata": {},
   "outputs": [
    {
     "data": {
      "text/plain": [
       "array([[0, 1, 0, ..., 0, 1, 0],\n",
       "       [1, 0, 0, ..., 0, 0, 1],\n",
       "       [0, 1, 0, ..., 0, 0, 1],\n",
       "       ...,\n",
       "       [0, 0, 1, ..., 0, 0, 1],\n",
       "       [0, 0, 1, ..., 1, 0, 0],\n",
       "       [0, 0, 1, ..., 0, 0, 1]], dtype=uint8)"
      ]
     },
     "execution_count": 24,
     "metadata": {},
     "output_type": "execute_result"
    }
   ],
   "source": [
    "cat_ind_attr"
   ]
  },
  {
   "cell_type": "code",
   "execution_count": 25,
   "metadata": {},
   "outputs": [
    {
     "data": {
      "text/plain": [
       "(1473, 16)"
      ]
     },
     "execution_count": 25,
     "metadata": {},
     "output_type": "execute_result"
    }
   ],
   "source": [
    "cat_ind_attr.shape"
   ]
  },
  {
   "cell_type": "markdown",
   "metadata": {},
   "source": [
    "Convert targeet categorical attribute to numeric using dummification"
   ]
  },
  {
   "cell_type": "code",
   "execution_count": 26,
   "metadata": {},
   "outputs": [],
   "source": [
    "cat_tar_attr = pd.get_dummies(df[cat_tar_attr_names]).values"
   ]
  },
  {
   "cell_type": "code",
   "execution_count": 27,
   "metadata": {},
   "outputs": [
    {
     "data": {
      "text/plain": [
       "array([[1, 0, 0],\n",
       "       [1, 0, 0],\n",
       "       [1, 0, 0],\n",
       "       ...,\n",
       "       [0, 0, 1],\n",
       "       [0, 0, 1],\n",
       "       [0, 0, 1]], dtype=uint8)"
      ]
     },
     "execution_count": 27,
     "metadata": {},
     "output_type": "execute_result"
    }
   ],
   "source": [
    "cat_tar_attr"
   ]
  },
  {
   "cell_type": "code",
   "execution_count": 28,
   "metadata": {},
   "outputs": [
    {
     "data": {
      "text/plain": [
       "(1473, 3)"
      ]
     },
     "execution_count": 28,
     "metadata": {},
     "output_type": "execute_result"
    }
   ],
   "source": [
    "cat_tar_attr.shape"
   ]
  },
  {
   "cell_type": "code",
   "execution_count": 29,
   "metadata": {},
   "outputs": [],
   "source": [
    "n_edu_levels = np.size(np.unique(edu_ind_attr, return_counts=True)[0])\n",
    "n_h_edu_levels = np.size(np.unique(h_edu_ind_attr, return_counts=True)[0])\n",
    "n_h_occ_levels = np.size(np.unique(h_occ_ind_attr, return_counts=True)[0])\n",
    "n_liv_std_levels = np.size(np.unique(liv_std_ind_attr, return_counts=True)[0])"
   ]
  },
  {
   "cell_type": "code",
   "execution_count": 30,
   "metadata": {},
   "outputs": [
    {
     "name": "stdout",
     "output_type": "stream",
     "text": [
      "4 4 4 4\n"
     ]
    }
   ],
   "source": [
    "print(n_edu_levels, n_h_edu_levels, n_h_occ_levels, n_liv_std_levels)"
   ]
  },
  {
   "cell_type": "code",
   "execution_count": 31,
   "metadata": {},
   "outputs": [],
   "source": [
    "scaled_num_ind_attr_train, scaled_num_ind_attr_test, \\\n",
    "cat_ind_attr_train, cat_ind_attr_test, \\\n",
    "edu_ind_attr_train, edu_ind_attr_test, \\\n",
    "h_edu_ind_attr_train, h_edu_ind_attr_test, \\\n",
    "h_occ_ind_attr_train, h_occ_ind_attr_test, \\\n",
    "liv_std_ind_attr_train, liv_std_ind_attr_test, \\\n",
    "Y_train, Y_test = train_test_split(scaled_num_ind_attr,\n",
    "                                                         cat_ind_attr, \n",
    "                                                         edu_ind_attr, \n",
    "                                                         h_edu_ind_attr,\n",
    "                                                         h_occ_ind_attr,\n",
    "                                                         liv_std_ind_attr,\n",
    "                                                         cat_tar_attr,\n",
    "                                                         test_size=0.1, random_state=123) \n"
   ]
  },
  {
   "cell_type": "markdown",
   "metadata": {},
   "source": [
    "### Build First Model"
   ]
  },
  {
   "cell_type": "code",
   "execution_count": 32,
   "metadata": {},
   "outputs": [],
   "source": [
    "X_train = np.hstack((scaled_num_ind_attr_train, cat_ind_attr_train))\n",
    "X_test = np.hstack((scaled_num_ind_attr_test, cat_ind_attr_test))"
   ]
  },
  {
   "cell_type": "code",
   "execution_count": 33,
   "metadata": {},
   "outputs": [],
   "source": [
    "model = Sequential()\n",
    "model.add(Dense(12, input_dim=X_train.shape[1], activation='relu'))\n",
    "model.add(Dense(3, activation='softmax'))"
   ]
  },
  {
   "cell_type": "code",
   "execution_count": 34,
   "metadata": {},
   "outputs": [],
   "source": [
    "model.compile(loss='categorical_crossentropy', optimizer='adagrad', metrics=['accuracy'])"
   ]
  },
  {
   "cell_type": "code",
   "execution_count": 35,
   "metadata": {},
   "outputs": [
    {
     "name": "stdout",
     "output_type": "stream",
     "text": [
      "_________________________________________________________________\n",
      "Layer (type)                 Output Shape              Param #   \n",
      "=================================================================\n",
      "dense_1 (Dense)              (None, 12)                264       \n",
      "_________________________________________________________________\n",
      "dense_2 (Dense)              (None, 3)                 39        \n",
      "=================================================================\n",
      "Total params: 303\n",
      "Trainable params: 303\n",
      "Non-trainable params: 0\n",
      "_________________________________________________________________\n"
     ]
    }
   ],
   "source": [
    "model.summary()"
   ]
  },
  {
   "cell_type": "code",
   "execution_count": 36,
   "metadata": {},
   "outputs": [
    {
     "name": "stdout",
     "output_type": "stream",
     "text": [
      "Epoch 1/100\n",
      " - 0s - loss: 1.0781 - acc: 0.3781\n",
      "Epoch 2/100\n",
      " - 0s - loss: 1.0345 - acc: 0.4332\n",
      "Epoch 3/100\n",
      " - 0s - loss: 1.0201 - acc: 0.4460\n",
      "Epoch 4/100\n",
      " - 0s - loss: 1.0126 - acc: 0.4694\n",
      "Epoch 5/100\n",
      " - 0s - loss: 1.0071 - acc: 0.4657\n",
      "Epoch 6/100\n",
      " - 0s - loss: 1.0031 - acc: 0.4657\n",
      "Epoch 7/100\n",
      " - 0s - loss: 1.0003 - acc: 0.4664\n",
      "Epoch 8/100\n",
      " - 0s - loss: 0.9979 - acc: 0.4762\n",
      "Epoch 9/100\n",
      " - 0s - loss: 0.9958 - acc: 0.4740\n",
      "Epoch 10/100\n",
      " - 0s - loss: 0.9937 - acc: 0.4717\n",
      "Epoch 11/100\n",
      " - 0s - loss: 0.9918 - acc: 0.4838\n",
      "Epoch 12/100\n",
      " - 0s - loss: 0.9903 - acc: 0.4845\n",
      "Epoch 13/100\n",
      " - 0s - loss: 0.9889 - acc: 0.4830\n",
      "Epoch 14/100\n",
      " - 0s - loss: 0.9875 - acc: 0.4860\n",
      "Epoch 15/100\n",
      " - 0s - loss: 0.9863 - acc: 0.4875\n",
      "Epoch 16/100\n",
      " - 0s - loss: 0.9851 - acc: 0.4883\n",
      "Epoch 17/100\n",
      " - 0s - loss: 0.9838 - acc: 0.4958\n",
      "Epoch 18/100\n",
      " - 0s - loss: 0.9830 - acc: 0.4921\n",
      "Epoch 19/100\n",
      " - 0s - loss: 0.9820 - acc: 0.4951\n",
      "Epoch 20/100\n",
      " - 0s - loss: 0.9810 - acc: 0.4943\n",
      "Epoch 21/100\n",
      " - 0s - loss: 0.9800 - acc: 0.4936\n",
      "Epoch 22/100\n",
      " - 0s - loss: 0.9792 - acc: 0.4966\n",
      "Epoch 23/100\n",
      " - 0s - loss: 0.9782 - acc: 0.5004\n",
      "Epoch 24/100\n",
      " - 0s - loss: 0.9774 - acc: 0.5011\n",
      "Epoch 25/100\n",
      " - 0s - loss: 0.9765 - acc: 0.5011\n",
      "Epoch 26/100\n",
      " - 0s - loss: 0.9758 - acc: 0.5004\n",
      "Epoch 27/100\n",
      " - 0s - loss: 0.9749 - acc: 0.5004\n",
      "Epoch 28/100\n",
      " - 0s - loss: 0.9743 - acc: 0.5019\n",
      "Epoch 29/100\n",
      " - 0s - loss: 0.9734 - acc: 0.5011\n",
      "Epoch 30/100\n",
      " - 0s - loss: 0.9727 - acc: 0.5049\n",
      "Epoch 31/100\n",
      " - 0s - loss: 0.9721 - acc: 0.5042\n",
      "Epoch 32/100\n",
      " - 0s - loss: 0.9714 - acc: 0.5034\n",
      "Epoch 33/100\n",
      " - 0s - loss: 0.9708 - acc: 0.5072\n",
      "Epoch 34/100\n",
      " - 0s - loss: 0.9701 - acc: 0.5034\n",
      "Epoch 35/100\n",
      " - 0s - loss: 0.9696 - acc: 0.5087\n",
      "Epoch 36/100\n",
      " - 0s - loss: 0.9689 - acc: 0.5042\n",
      "Epoch 37/100\n",
      " - 0s - loss: 0.9684 - acc: 0.5079\n",
      "Epoch 38/100\n",
      " - 0s - loss: 0.9677 - acc: 0.5034\n",
      "Epoch 39/100\n",
      " - 0s - loss: 0.9671 - acc: 0.5064\n",
      "Epoch 40/100\n",
      " - 0s - loss: 0.9665 - acc: 0.5094\n",
      "Epoch 41/100\n",
      " - 0s - loss: 0.9660 - acc: 0.5079\n",
      "Epoch 42/100\n",
      " - 0s - loss: 0.9656 - acc: 0.5102\n",
      "Epoch 43/100\n",
      " - 0s - loss: 0.9653 - acc: 0.5087\n",
      "Epoch 44/100\n",
      " - 0s - loss: 0.9646 - acc: 0.5079\n",
      "Epoch 45/100\n",
      " - 0s - loss: 0.9641 - acc: 0.5102\n",
      "Epoch 46/100\n",
      " - 0s - loss: 0.9636 - acc: 0.5132\n",
      "Epoch 47/100\n",
      " - 0s - loss: 0.9633 - acc: 0.5094\n",
      "Epoch 48/100\n",
      " - 0s - loss: 0.9625 - acc: 0.5049\n",
      "Epoch 49/100\n",
      " - 0s - loss: 0.9623 - acc: 0.5140\n",
      "Epoch 50/100\n",
      " - 0s - loss: 0.9618 - acc: 0.5125\n",
      "Epoch 51/100\n",
      " - 0s - loss: 0.9614 - acc: 0.5162\n",
      "Epoch 52/100\n",
      " - 0s - loss: 0.9609 - acc: 0.5102\n",
      "Epoch 53/100\n",
      " - 0s - loss: 0.9605 - acc: 0.5185\n",
      "Epoch 54/100\n",
      " - 0s - loss: 0.9600 - acc: 0.5117\n",
      "Epoch 55/100\n",
      " - 0s - loss: 0.9596 - acc: 0.5185\n",
      "Epoch 56/100\n",
      " - 0s - loss: 0.9592 - acc: 0.5162\n",
      "Epoch 57/100\n",
      " - 0s - loss: 0.9588 - acc: 0.5155\n",
      "Epoch 58/100\n",
      " - 0s - loss: 0.9584 - acc: 0.5192\n",
      "Epoch 59/100\n",
      " - 0s - loss: 0.9581 - acc: 0.5147\n",
      "Epoch 60/100\n",
      " - 0s - loss: 0.9577 - acc: 0.5185\n",
      "Epoch 61/100\n",
      " - 0s - loss: 0.9572 - acc: 0.5185\n",
      "Epoch 62/100\n",
      " - 0s - loss: 0.9569 - acc: 0.5192\n",
      "Epoch 63/100\n",
      " - 0s - loss: 0.9565 - acc: 0.5170\n",
      "Epoch 64/100\n",
      " - 0s - loss: 0.9562 - acc: 0.5215\n",
      "Epoch 65/100\n",
      " - 0s - loss: 0.9559 - acc: 0.5170\n",
      "Epoch 66/100\n",
      " - 0s - loss: 0.9554 - acc: 0.5200\n",
      "Epoch 67/100\n",
      " - 0s - loss: 0.9552 - acc: 0.5223\n",
      "Epoch 68/100\n",
      " - 0s - loss: 0.9548 - acc: 0.5200\n",
      "Epoch 69/100\n",
      " - 0s - loss: 0.9545 - acc: 0.5223\n",
      "Epoch 70/100\n",
      " - 0s - loss: 0.9542 - acc: 0.5208\n",
      "Epoch 71/100\n",
      " - 0s - loss: 0.9539 - acc: 0.5223\n",
      "Epoch 72/100\n",
      " - 0s - loss: 0.9535 - acc: 0.5185\n",
      "Epoch 73/100\n",
      " - 0s - loss: 0.9532 - acc: 0.5230\n",
      "Epoch 74/100\n",
      " - 0s - loss: 0.9530 - acc: 0.5230\n",
      "Epoch 75/100\n",
      " - 0s - loss: 0.9526 - acc: 0.5245\n",
      "Epoch 76/100\n",
      " - 0s - loss: 0.9523 - acc: 0.5223\n",
      "Epoch 77/100\n",
      " - 0s - loss: 0.9520 - acc: 0.5215\n",
      "Epoch 78/100\n",
      " - 0s - loss: 0.9516 - acc: 0.5238\n",
      "Epoch 79/100\n",
      " - 0s - loss: 0.9514 - acc: 0.5230\n",
      "Epoch 80/100\n",
      " - 0s - loss: 0.9512 - acc: 0.5260\n",
      "Epoch 81/100\n",
      " - 0s - loss: 0.9507 - acc: 0.5245\n",
      "Epoch 82/100\n",
      " - 0s - loss: 0.9506 - acc: 0.5230\n",
      "Epoch 83/100\n",
      " - 0s - loss: 0.9503 - acc: 0.5253\n",
      "Epoch 84/100\n",
      " - 0s - loss: 0.9500 - acc: 0.5245\n",
      "Epoch 85/100\n",
      " - 0s - loss: 0.9497 - acc: 0.5253\n",
      "Epoch 86/100\n",
      " - 0s - loss: 0.9494 - acc: 0.5223\n",
      "Epoch 87/100\n",
      " - 0s - loss: 0.9491 - acc: 0.5291\n",
      "Epoch 88/100\n",
      " - 0s - loss: 0.9488 - acc: 0.5275\n",
      "Epoch 89/100\n",
      " - 0s - loss: 0.9486 - acc: 0.5298\n",
      "Epoch 90/100\n",
      " - 0s - loss: 0.9483 - acc: 0.5268\n",
      "Epoch 91/100\n",
      " - 0s - loss: 0.9482 - acc: 0.5275\n",
      "Epoch 92/100\n",
      " - 0s - loss: 0.9479 - acc: 0.5291\n",
      "Epoch 93/100\n",
      " - 0s - loss: 0.9475 - acc: 0.5253\n",
      "Epoch 94/100\n",
      " - 0s - loss: 0.9473 - acc: 0.5298\n",
      "Epoch 95/100\n",
      " - 0s - loss: 0.9471 - acc: 0.5291\n",
      "Epoch 96/100\n",
      " - 0s - loss: 0.9469 - acc: 0.5291\n",
      "Epoch 97/100\n",
      " - 0s - loss: 0.9466 - acc: 0.5321\n",
      "Epoch 98/100\n",
      " - 0s - loss: 0.9463 - acc: 0.5283\n",
      "Epoch 99/100\n",
      " - 0s - loss: 0.9461 - acc: 0.5283\n",
      "Epoch 100/100\n",
      " - 0s - loss: 0.9458 - acc: 0.5291\n"
     ]
    },
    {
     "data": {
      "text/plain": [
       "<keras.callbacks.History at 0x19dfd2266d8>"
      ]
     },
     "execution_count": 36,
     "metadata": {},
     "output_type": "execute_result"
    }
   ],
   "source": [
    "model.fit(X_train, Y_train, epochs=100, verbose=2)"
   ]
  },
  {
   "cell_type": "code",
   "execution_count": 37,
   "metadata": {},
   "outputs": [
    {
     "name": "stdout",
     "output_type": "stream",
     "text": [
      "148/148 [==============================] - 0s 211us/step\n"
     ]
    },
    {
     "data": {
      "text/plain": [
       "[0.9842306536597174, 0.44594594675141414]"
      ]
     },
     "execution_count": 37,
     "metadata": {},
     "output_type": "execute_result"
    }
   ],
   "source": [
    "model.evaluate(X_test, Y_test)"
   ]
  },
  {
   "cell_type": "code",
   "execution_count": 38,
   "metadata": {
    "scrolled": true
   },
   "outputs": [
    {
     "data": {
      "text/plain": [
       "array([[0.67804044, 0.13495673, 0.18700287],\n",
       "       [0.38627872, 0.28715387, 0.32656747],\n",
       "       [0.50075567, 0.18780819, 0.3114361 ],\n",
       "       [0.35034138, 0.11731823, 0.5323404 ],\n",
       "       [0.51958174, 0.0918436 , 0.38857463]], dtype=float32)"
      ]
     },
     "execution_count": 38,
     "metadata": {},
     "output_type": "execute_result"
    }
   ],
   "source": [
    "p = model.predict(X_test)\n",
    "p[:5]"
   ]
  },
  {
   "cell_type": "markdown",
   "metadata": {},
   "source": [
    "## Building Second Model"
   ]
  },
  {
   "cell_type": "markdown",
   "metadata": {},
   "source": [
    "Word Embedding for Education"
   ]
  },
  {
   "cell_type": "code",
   "execution_count": 39,
   "metadata": {},
   "outputs": [],
   "source": [
    "edu_input = Input(shape=(1, ), name=\"edu\")\n",
    "edu_embed = Embedding(input_dim=n_edu_levels, output_dim=4)(edu_input)"
   ]
  },
  {
   "cell_type": "markdown",
   "metadata": {},
   "source": [
    "Word Embedding for H_education"
   ]
  },
  {
   "cell_type": "code",
   "execution_count": 40,
   "metadata": {},
   "outputs": [],
   "source": [
    "h_edu_input = Input(shape=(1, ), name=\"h_edu\")\n",
    "h_edu_embed = Embedding(input_dim=n_h_edu_levels, output_dim=4)(h_edu_input)"
   ]
  },
  {
   "cell_type": "markdown",
   "metadata": {},
   "source": [
    "Word Embedding for H_occupation"
   ]
  },
  {
   "cell_type": "code",
   "execution_count": 41,
   "metadata": {},
   "outputs": [],
   "source": [
    "h_occ_input = Input(shape=(1, ), name=\"occ\")\n",
    "h_occ_embed = Embedding(input_dim=n_h_occ_levels, output_dim=4)(h_occ_input)"
   ]
  },
  {
   "cell_type": "markdown",
   "metadata": {},
   "source": [
    "Word Embedding for living_standard"
   ]
  },
  {
   "cell_type": "code",
   "execution_count": 42,
   "metadata": {},
   "outputs": [],
   "source": [
    "liv_input = Input(shape=(1, ),name=\"Liv\")\n",
    "liv_embed = Embedding(input_dim=n_liv_std_levels, output_dim=4 )(liv_input)"
   ]
  },
  {
   "cell_type": "markdown",
   "metadata": {},
   "source": [
    "Concatenating output from all 4 embedding layers and Flatten it"
   ]
  },
  {
   "cell_type": "code",
   "execution_count": 43,
   "metadata": {},
   "outputs": [],
   "source": [
    "merge_cat_emb = concatenate([edu_embed, h_edu_embed, h_occ_embed, liv_embed])\n",
    "merge_cat_emb_flat = Flatten()(merge_cat_emb)"
   ]
  },
  {
   "cell_type": "code",
   "execution_count": 44,
   "metadata": {},
   "outputs": [],
   "source": [
    "num_input = Input(shape=(scaled_num_ind_attr_train.shape[1], ))\n",
    "\n",
    "merge_two = concatenate([merge_cat_emb_flat, num_input])\n",
    "\n",
    "merged_layer = Dense(8, activation= 'relu')(merge_two)\n",
    "output_layer = Dense(3, activation='softmax')(merged_layer)\n",
    "\n",
    "model = Model(inputs=[edu_input, h_edu_input, h_occ_input, liv_input, num_input], outputs=output_layer)"
   ]
  },
  {
   "cell_type": "code",
   "execution_count": 45,
   "metadata": {},
   "outputs": [
    {
     "name": "stdout",
     "output_type": "stream",
     "text": [
      "__________________________________________________________________________________________________\n",
      "Layer (type)                    Output Shape         Param #     Connected to                     \n",
      "==================================================================================================\n",
      "edu (InputLayer)                (None, 1)            0                                            \n",
      "__________________________________________________________________________________________________\n",
      "h_edu (InputLayer)              (None, 1)            0                                            \n",
      "__________________________________________________________________________________________________\n",
      "occ (InputLayer)                (None, 1)            0                                            \n",
      "__________________________________________________________________________________________________\n",
      "Liv (InputLayer)                (None, 1)            0                                            \n",
      "__________________________________________________________________________________________________\n",
      "embedding_1 (Embedding)         (None, 1, 4)         16          edu[0][0]                        \n",
      "__________________________________________________________________________________________________\n",
      "embedding_2 (Embedding)         (None, 1, 4)         16          h_edu[0][0]                      \n",
      "__________________________________________________________________________________________________\n",
      "embedding_3 (Embedding)         (None, 1, 4)         16          occ[0][0]                        \n",
      "__________________________________________________________________________________________________\n",
      "embedding_4 (Embedding)         (None, 1, 4)         16          Liv[0][0]                        \n",
      "__________________________________________________________________________________________________\n",
      "concatenate_1 (Concatenate)     (None, 1, 16)        0           embedding_1[0][0]                \n",
      "                                                                 embedding_2[0][0]                \n",
      "                                                                 embedding_3[0][0]                \n",
      "                                                                 embedding_4[0][0]                \n",
      "__________________________________________________________________________________________________\n",
      "flatten_1 (Flatten)             (None, 16)           0           concatenate_1[0][0]              \n",
      "__________________________________________________________________________________________________\n",
      "input_1 (InputLayer)            (None, 5)            0                                            \n",
      "__________________________________________________________________________________________________\n",
      "concatenate_2 (Concatenate)     (None, 21)           0           flatten_1[0][0]                  \n",
      "                                                                 input_1[0][0]                    \n",
      "__________________________________________________________________________________________________\n",
      "dense_3 (Dense)                 (None, 8)            176         concatenate_2[0][0]              \n",
      "__________________________________________________________________________________________________\n",
      "dense_4 (Dense)                 (None, 3)            27          dense_3[0][0]                    \n",
      "==================================================================================================\n",
      "Total params: 267\n",
      "Trainable params: 267\n",
      "Non-trainable params: 0\n",
      "__________________________________________________________________________________________________\n"
     ]
    }
   ],
   "source": [
    "model.summary()"
   ]
  },
  {
   "cell_type": "code",
   "execution_count": 46,
   "metadata": {},
   "outputs": [],
   "source": [
    "model.compile(loss='categorical_crossentropy', optimizer='adagrad', metrics=['accuracy'])"
   ]
  },
  {
   "cell_type": "code",
   "execution_count": 47,
   "metadata": {
    "scrolled": false
   },
   "outputs": [
    {
     "name": "stdout",
     "output_type": "stream",
     "text": [
      "Epoch 1/100\n",
      " - 0s - loss: 1.0800 - acc: 0.4219\n",
      "Epoch 2/100\n",
      " - 0s - loss: 1.0383 - acc: 0.4377\n",
      "Epoch 3/100\n",
      " - 0s - loss: 1.0256 - acc: 0.4400\n",
      "Epoch 4/100\n",
      " - 0s - loss: 1.0179 - acc: 0.4543\n",
      "Epoch 5/100\n",
      " - 0s - loss: 1.0129 - acc: 0.4551\n",
      "Epoch 6/100\n",
      " - 0s - loss: 1.0097 - acc: 0.4634\n",
      "Epoch 7/100\n",
      " - 0s - loss: 1.0069 - acc: 0.4634\n",
      "Epoch 8/100\n",
      " - 0s - loss: 1.0047 - acc: 0.4634\n",
      "Epoch 9/100\n",
      " - 0s - loss: 1.0029 - acc: 0.4672\n",
      "Epoch 10/100\n",
      " - 0s - loss: 1.0012 - acc: 0.4709\n",
      "Epoch 11/100\n",
      " - 0s - loss: 0.9996 - acc: 0.4785\n",
      "Epoch 12/100\n",
      " - 0s - loss: 0.9983 - acc: 0.4762\n",
      "Epoch 13/100\n",
      " - 0s - loss: 0.9971 - acc: 0.4853\n",
      "Epoch 14/100\n",
      " - 0s - loss: 0.9957 - acc: 0.4845\n",
      "Epoch 15/100\n",
      " - 0s - loss: 0.9947 - acc: 0.4815\n",
      "Epoch 16/100\n",
      " - 0s - loss: 0.9937 - acc: 0.4868\n",
      "Epoch 17/100\n",
      " - 0s - loss: 0.9928 - acc: 0.4815\n",
      "Epoch 18/100\n",
      " - 0s - loss: 0.9919 - acc: 0.4830\n",
      "Epoch 19/100\n",
      " - 0s - loss: 0.9910 - acc: 0.4853\n",
      "Epoch 20/100\n",
      " - 0s - loss: 0.9901 - acc: 0.4891\n",
      "Epoch 21/100\n",
      " - 0s - loss: 0.9891 - acc: 0.4845\n",
      "Epoch 22/100\n",
      " - 0s - loss: 0.9885 - acc: 0.4875\n",
      "Epoch 23/100\n",
      " - 0s - loss: 0.9877 - acc: 0.4936\n",
      "Epoch 24/100\n",
      " - 0s - loss: 0.9871 - acc: 0.4898\n",
      "Epoch 25/100\n",
      " - 0s - loss: 0.9864 - acc: 0.4898\n",
      "Epoch 26/100\n",
      " - 0s - loss: 0.9857 - acc: 0.4913\n",
      "Epoch 27/100\n",
      " - 0s - loss: 0.9854 - acc: 0.4891\n",
      "Epoch 28/100\n",
      " - 0s - loss: 0.9846 - acc: 0.4906\n",
      "Epoch 29/100\n",
      " - 0s - loss: 0.9841 - acc: 0.4906\n",
      "Epoch 30/100\n",
      " - 0s - loss: 0.9835 - acc: 0.4898\n",
      "Epoch 31/100\n",
      " - 0s - loss: 0.9829 - acc: 0.4898\n",
      "Epoch 32/100\n",
      " - 0s - loss: 0.9824 - acc: 0.4906\n",
      "Epoch 33/100\n",
      " - 0s - loss: 0.9820 - acc: 0.4906\n",
      "Epoch 34/100\n",
      " - 0s - loss: 0.9815 - acc: 0.4981\n",
      "Epoch 35/100\n",
      " - 0s - loss: 0.9810 - acc: 0.4928\n",
      "Epoch 36/100\n",
      " - 0s - loss: 0.9806 - acc: 0.4951\n",
      "Epoch 37/100\n",
      " - 0s - loss: 0.9801 - acc: 0.4966\n",
      "Epoch 38/100\n",
      " - 0s - loss: 0.9797 - acc: 0.4966\n",
      "Epoch 39/100\n",
      " - 0s - loss: 0.9794 - acc: 0.4928\n",
      "Epoch 40/100\n",
      " - 0s - loss: 0.9788 - acc: 0.4928\n",
      "Epoch 41/100\n",
      " - 0s - loss: 0.9785 - acc: 0.4951\n",
      "Epoch 42/100\n",
      " - 0s - loss: 0.9781 - acc: 0.5004\n",
      "Epoch 43/100\n",
      " - 0s - loss: 0.9777 - acc: 0.5004\n",
      "Epoch 44/100\n",
      " - 0s - loss: 0.9774 - acc: 0.4958\n",
      "Epoch 45/100\n",
      " - 0s - loss: 0.9769 - acc: 0.4974\n",
      "Epoch 46/100\n",
      " - 0s - loss: 0.9766 - acc: 0.5004\n",
      "Epoch 47/100\n",
      " - 0s - loss: 0.9762 - acc: 0.4974\n",
      "Epoch 48/100\n",
      " - 0s - loss: 0.9758 - acc: 0.4981\n",
      "Epoch 49/100\n",
      " - 0s - loss: 0.9756 - acc: 0.4989\n",
      "Epoch 50/100\n",
      " - 0s - loss: 0.9752 - acc: 0.4966\n",
      "Epoch 51/100\n",
      " - 0s - loss: 0.9749 - acc: 0.5042\n",
      "Epoch 52/100\n",
      " - 0s - loss: 0.9744 - acc: 0.4989\n",
      "Epoch 53/100\n",
      " - 0s - loss: 0.9742 - acc: 0.5004\n",
      "Epoch 54/100\n",
      " - 0s - loss: 0.9739 - acc: 0.5004\n",
      "Epoch 55/100\n",
      " - 0s - loss: 0.9735 - acc: 0.5004\n",
      "Epoch 56/100\n",
      " - 0s - loss: 0.9733 - acc: 0.5042\n",
      "Epoch 57/100\n",
      " - 0s - loss: 0.9729 - acc: 0.5011\n",
      "Epoch 58/100\n",
      " - 0s - loss: 0.9726 - acc: 0.5049\n",
      "Epoch 59/100\n",
      " - 0s - loss: 0.9723 - acc: 0.5019\n",
      "Epoch 60/100\n",
      " - 0s - loss: 0.9721 - acc: 0.4996\n",
      "Epoch 61/100\n",
      " - 0s - loss: 0.9718 - acc: 0.5019\n",
      "Epoch 62/100\n",
      " - 0s - loss: 0.9715 - acc: 0.5004\n",
      "Epoch 63/100\n",
      " - 0s - loss: 0.9713 - acc: 0.5026\n",
      "Epoch 64/100\n",
      " - 0s - loss: 0.9710 - acc: 0.4996\n",
      "Epoch 65/100\n",
      " - 0s - loss: 0.9707 - acc: 0.4989\n",
      "Epoch 66/100\n",
      " - 0s - loss: 0.9704 - acc: 0.5064\n",
      "Epoch 67/100\n",
      " - 0s - loss: 0.9701 - acc: 0.5019\n",
      "Epoch 68/100\n",
      " - 0s - loss: 0.9699 - acc: 0.5042\n",
      "Epoch 69/100\n",
      " - 0s - loss: 0.9697 - acc: 0.5004\n",
      "Epoch 70/100\n",
      " - 0s - loss: 0.9694 - acc: 0.4996\n",
      "Epoch 71/100\n",
      " - 0s - loss: 0.9692 - acc: 0.5011\n",
      "Epoch 72/100\n",
      " - 0s - loss: 0.9689 - acc: 0.4966\n",
      "Epoch 73/100\n",
      " - 0s - loss: 0.9687 - acc: 0.5026\n",
      "Epoch 74/100\n",
      " - 0s - loss: 0.9684 - acc: 0.5004\n",
      "Epoch 75/100\n",
      " - 0s - loss: 0.9682 - acc: 0.5034\n",
      "Epoch 76/100\n",
      " - 0s - loss: 0.9680 - acc: 0.5004\n",
      "Epoch 77/100\n",
      " - 0s - loss: 0.9677 - acc: 0.5026\n",
      "Epoch 78/100\n",
      " - 0s - loss: 0.9675 - acc: 0.5011\n",
      "Epoch 79/100\n",
      " - 0s - loss: 0.9673 - acc: 0.4981\n",
      "Epoch 80/100\n",
      " - 0s - loss: 0.9670 - acc: 0.5026\n",
      "Epoch 81/100\n",
      " - 0s - loss: 0.9668 - acc: 0.5004\n",
      "Epoch 82/100\n",
      " - 0s - loss: 0.9665 - acc: 0.5004\n",
      "Epoch 83/100\n",
      " - 0s - loss: 0.9664 - acc: 0.5019\n",
      "Epoch 84/100\n",
      " - 0s - loss: 0.9661 - acc: 0.5042\n",
      "Epoch 85/100\n",
      " - 0s - loss: 0.9660 - acc: 0.5026\n",
      "Epoch 86/100\n",
      " - 0s - loss: 0.9657 - acc: 0.5026\n",
      "Epoch 87/100\n",
      " - 0s - loss: 0.9655 - acc: 0.5057\n",
      "Epoch 88/100\n",
      " - 0s - loss: 0.9653 - acc: 0.5026\n",
      "Epoch 89/100\n",
      " - 0s - loss: 0.9650 - acc: 0.5049\n",
      "Epoch 90/100\n",
      " - 0s - loss: 0.9649 - acc: 0.5026\n",
      "Epoch 91/100\n",
      " - 0s - loss: 0.9646 - acc: 0.5034\n",
      "Epoch 92/100\n",
      " - 0s - loss: 0.9644 - acc: 0.5079\n",
      "Epoch 93/100\n",
      " - 0s - loss: 0.9643 - acc: 0.5072\n",
      "Epoch 94/100\n",
      " - 0s - loss: 0.9641 - acc: 0.5034\n",
      "Epoch 95/100\n",
      " - 0s - loss: 0.9639 - acc: 0.5057\n",
      "Epoch 96/100\n",
      " - 0s - loss: 0.9637 - acc: 0.5034\n",
      "Epoch 97/100\n",
      " - 0s - loss: 0.9635 - acc: 0.5087\n",
      "Epoch 98/100\n",
      " - 0s - loss: 0.9633 - acc: 0.5057\n",
      "Epoch 99/100\n",
      " - 0s - loss: 0.9631 - acc: 0.5057\n",
      "Epoch 100/100\n",
      " - 0s - loss: 0.9629 - acc: 0.5049\n"
     ]
    },
    {
     "data": {
      "text/plain": [
       "<keras.callbacks.History at 0x19dfd2f1fd0>"
      ]
     },
     "execution_count": 47,
     "metadata": {},
     "output_type": "execute_result"
    }
   ],
   "source": [
    "model.fit([edu_ind_attr_train, h_edu_ind_attr_train,\n",
    "           h_occ_ind_attr_train, liv_std_ind_attr_train, \n",
    "           scaled_num_ind_attr_train], \n",
    "          y=Y_train, \n",
    "          epochs=100, verbose=2)"
   ]
  },
  {
   "cell_type": "code",
   "execution_count": 48,
   "metadata": {},
   "outputs": [
    {
     "name": "stdout",
     "output_type": "stream",
     "text": [
      "148/148 [==============================] - 0s 422us/step\n"
     ]
    },
    {
     "data": {
      "text/plain": [
       "[0.9866301014616683, 0.46621621702168436]"
      ]
     },
     "execution_count": 48,
     "metadata": {},
     "output_type": "execute_result"
    }
   ],
   "source": [
    "model.evaluate([edu_ind_attr_test, h_edu_ind_attr_test, h_occ_ind_attr_test, liv_std_ind_attr_test, scaled_num_ind_attr_test], Y_test)"
   ]
  },
  {
   "cell_type": "code",
   "execution_count": 49,
   "metadata": {},
   "outputs": [
    {
     "data": {
      "text/plain": [
       "array([[0.6850946 , 0.15213658, 0.16276884],\n",
       "       [0.36661115, 0.29848167, 0.3349072 ],\n",
       "       [0.46295297, 0.19897176, 0.33807522],\n",
       "       [0.3921326 , 0.11621762, 0.49164972],\n",
       "       [0.5592245 , 0.13062485, 0.3101507 ]], dtype=float32)"
      ]
     },
     "execution_count": 49,
     "metadata": {},
     "output_type": "execute_result"
    }
   ],
   "source": [
    "p = model.predict([edu_ind_attr_test, h_edu_ind_attr_test, h_occ_ind_attr_test, liv_std_ind_attr_test, scaled_num_ind_attr_test])\n",
    "p[:5]"
   ]
  }
 ],
 "metadata": {
  "anaconda-cloud": {},
  "kernelspec": {
   "display_name": "Python 3",
   "language": "python",
   "name": "python3"
  },
  "language_info": {
   "codemirror_mode": {
    "name": "ipython",
    "version": 3
   },
   "file_extension": ".py",
   "mimetype": "text/x-python",
   "name": "python",
   "nbconvert_exporter": "python",
   "pygments_lexer": "ipython3",
   "version": "3.6.4"
  },
  "latex_envs": {
   "bibliofile": "biblio.bib",
   "cite_by": "apalike",
   "current_citInitial": 1,
   "eqLabelWithNumbers": true,
   "eqNumInitial": 0
  }
 },
 "nbformat": 4,
 "nbformat_minor": 1
}
