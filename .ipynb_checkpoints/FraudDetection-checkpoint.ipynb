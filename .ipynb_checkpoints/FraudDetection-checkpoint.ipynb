{
 "cells": [
  {
   "cell_type": "markdown",
   "metadata": {},
   "source": [
    "### Loading the required libraries"
   ]
  },
  {
   "cell_type": "code",
   "execution_count": 75,
   "metadata": {},
   "outputs": [],
   "source": [
    "from keras.models import Sequential\n",
    "from keras.layers import Dense, Dropout\n",
    "\n",
    "import pandas as pd\n",
    "import numpy as np\n",
    "\n",
    "from pylab import rcParams\n",
    "\n",
    "import matplotlib.pyplot as plt\n",
    "\n",
    "%matplotlib inline"
   ]
  },
  {
   "cell_type": "code",
   "execution_count": 76,
   "metadata": {},
   "outputs": [],
   "source": [
    "RANDOM_SEED =7124\n",
    "LABELS = [\"Normal\", \"Fraud\"]"
   ]
  },
  {
   "cell_type": "code",
   "execution_count": 77,
   "metadata": {},
   "outputs": [
    {
     "data": {
      "text/plain": [
       "(100000, 30)"
      ]
     },
     "execution_count": 77,
     "metadata": {},
     "output_type": "execute_result"
    }
   ],
   "source": [
    "# Reading the data and lookng at the structure of the data. This data has 30 attributes and 1 lakh records\n",
    "data = pd.read_csv(\"Fraud_data_amtstd.csv\")\n",
    "data.shape"
   ]
  },
  {
   "cell_type": "code",
   "execution_count": 19,
   "metadata": {},
   "outputs": [
    {
     "name": "stdout",
     "output_type": "stream",
     "text": [
      "0    99508\n",
      "1      492\n",
      "Name: Class, dtype: int64\n"
     ]
    },
    {
     "data": {
      "image/png": "[encoded data removed]",
      "text/plain": [
       "<matplotlib.figure.Figure at 0x10b69aeadd8>"
      ]
     },
     "metadata": {},
     "output_type": "display_data"
    }
   ],
   "source": [
    "#PLotting the frequencies of fraud and non-fraud transactions in the data\n",
    "count_classes = pd.value_counts(data['Class'], sort = True)\n",
    "print(count_classes)\n",
    "\n",
    "#Drawing a barplot\n",
    "count_classes.plot(kind = 'bar', rot=0)\n",
    "\n",
    "#Giving titles and labels to the plot\n",
    "plt.title(\"Transaction class distribution\")\n",
    "plt.xticks(range(2), LABELS)\n",
    "plt.xlabel(\"Class\")\n",
    "plt.ylabel(\"Frequency\");"
   ]
  },
  {
   "cell_type": "code",
   "execution_count": 78,
   "metadata": {},
   "outputs": [
    {
     "data": {
      "text/html": [
       "<div>\n",
       "<style scoped>\n",
       "    .dataframe tbody tr th:only-of-type {\n",
       "        vertical-align: middle;\n",
       "    }\n",
       "\n",
       "    .dataframe tbody tr th {\n",
       "        vertical-align: top;\n",
       "    }\n",
       "\n",
       "    .dataframe thead th {\n",
       "        text-align: right;\n",
       "    }\n",
       "</style>\n",
       "<table border=\"1\" class=\"dataframe\">\n",
       "  <thead>\n",
       "    <tr style=\"text-align: right;\">\n",
       "      <th></th>\n",
       "      <th>V1</th>\n",
       "      <th>V2</th>\n",
       "      <th>V3</th>\n",
       "      <th>V4</th>\n",
       "      <th>V5</th>\n",
       "      <th>V6</th>\n",
       "      <th>V7</th>\n",
       "      <th>V8</th>\n",
       "      <th>V9</th>\n",
       "      <th>V10</th>\n",
       "      <th>...</th>\n",
       "      <th>V21</th>\n",
       "      <th>V22</th>\n",
       "      <th>V23</th>\n",
       "      <th>V24</th>\n",
       "      <th>V25</th>\n",
       "      <th>V26</th>\n",
       "      <th>V27</th>\n",
       "      <th>V28</th>\n",
       "      <th>Amount</th>\n",
       "      <th>Class</th>\n",
       "    </tr>\n",
       "  </thead>\n",
       "  <tbody>\n",
       "    <tr>\n",
       "      <th>0</th>\n",
       "      <td>1.836500</td>\n",
       "      <td>-0.545419</td>\n",
       "      <td>-0.462979</td>\n",
       "      <td>0.537174</td>\n",
       "      <td>-0.426143</td>\n",
       "      <td>-0.100606</td>\n",
       "      <td>-0.584764</td>\n",
       "      <td>-0.103956</td>\n",
       "      <td>2.268429</td>\n",
       "      <td>-0.365185</td>\n",
       "      <td>...</td>\n",
       "      <td>0.085111</td>\n",
       "      <td>0.410736</td>\n",
       "      <td>0.137625</td>\n",
       "      <td>0.602906</td>\n",
       "      <td>-0.350260</td>\n",
       "      <td>0.464407</td>\n",
       "      <td>-0.070917</td>\n",
       "      <td>-0.030486</td>\n",
       "      <td>0.049882</td>\n",
       "      <td>0</td>\n",
       "    </tr>\n",
       "    <tr>\n",
       "      <th>1</th>\n",
       "      <td>-4.289880</td>\n",
       "      <td>-2.576061</td>\n",
       "      <td>-0.092256</td>\n",
       "      <td>1.976405</td>\n",
       "      <td>2.810033</td>\n",
       "      <td>-2.669128</td>\n",
       "      <td>-0.981883</td>\n",
       "      <td>-0.470310</td>\n",
       "      <td>-0.025692</td>\n",
       "      <td>0.099528</td>\n",
       "      <td>...</td>\n",
       "      <td>-0.473240</td>\n",
       "      <td>-0.307295</td>\n",
       "      <td>-2.789549</td>\n",
       "      <td>0.578976</td>\n",
       "      <td>-0.837979</td>\n",
       "      <td>0.372843</td>\n",
       "      <td>0.353451</td>\n",
       "      <td>-1.662202</td>\n",
       "      <td>-0.347171</td>\n",
       "      <td>0</td>\n",
       "    </tr>\n",
       "    <tr>\n",
       "      <th>2</th>\n",
       "      <td>1.131318</td>\n",
       "      <td>0.139818</td>\n",
       "      <td>0.586921</td>\n",
       "      <td>1.069291</td>\n",
       "      <td>-0.334908</td>\n",
       "      <td>-0.204938</td>\n",
       "      <td>-0.135526</td>\n",
       "      <td>0.043821</td>\n",
       "      <td>-0.121117</td>\n",
       "      <td>0.182139</td>\n",
       "      <td>...</td>\n",
       "      <td>-0.028126</td>\n",
       "      <td>-0.167062</td>\n",
       "      <td>-0.048054</td>\n",
       "      <td>-0.009912</td>\n",
       "      <td>0.417694</td>\n",
       "      <td>-0.479793</td>\n",
       "      <td>0.024360</td>\n",
       "      <td>0.023878</td>\n",
       "      <td>-0.208963</td>\n",
       "      <td>0</td>\n",
       "    </tr>\n",
       "    <tr>\n",
       "      <th>3</th>\n",
       "      <td>-0.866956</td>\n",
       "      <td>1.373947</td>\n",
       "      <td>1.948343</td>\n",
       "      <td>2.686750</td>\n",
       "      <td>-0.366790</td>\n",
       "      <td>0.568632</td>\n",
       "      <td>-0.278349</td>\n",
       "      <td>0.739536</td>\n",
       "      <td>-1.655955</td>\n",
       "      <td>0.708396</td>\n",
       "      <td>...</td>\n",
       "      <td>0.022719</td>\n",
       "      <td>-0.070619</td>\n",
       "      <td>-0.080307</td>\n",
       "      <td>0.000816</td>\n",
       "      <td>0.092167</td>\n",
       "      <td>0.159131</td>\n",
       "      <td>0.157940</td>\n",
       "      <td>-0.014370</td>\n",
       "      <td>-0.253595</td>\n",
       "      <td>0</td>\n",
       "    </tr>\n",
       "    <tr>\n",
       "      <th>4</th>\n",
       "      <td>-0.842670</td>\n",
       "      <td>1.401843</td>\n",
       "      <td>0.927235</td>\n",
       "      <td>1.070402</td>\n",
       "      <td>0.843883</td>\n",
       "      <td>0.467333</td>\n",
       "      <td>0.366716</td>\n",
       "      <td>0.616739</td>\n",
       "      <td>-1.586963</td>\n",
       "      <td>0.000041</td>\n",
       "      <td>...</td>\n",
       "      <td>0.036573</td>\n",
       "      <td>-0.182581</td>\n",
       "      <td>-0.226834</td>\n",
       "      <td>-1.029794</td>\n",
       "      <td>-0.118762</td>\n",
       "      <td>-0.228960</td>\n",
       "      <td>-0.024250</td>\n",
       "      <td>0.046547</td>\n",
       "      <td>-0.346230</td>\n",
       "      <td>0</td>\n",
       "    </tr>\n",
       "    <tr>\n",
       "      <th>5</th>\n",
       "      <td>1.178458</td>\n",
       "      <td>0.166055</td>\n",
       "      <td>-0.101567</td>\n",
       "      <td>0.369453</td>\n",
       "      <td>0.017198</td>\n",
       "      <td>-0.722891</td>\n",
       "      <td>0.396639</td>\n",
       "      <td>-0.187978</td>\n",
       "      <td>-0.483147</td>\n",
       "      <td>0.083094</td>\n",
       "      <td>...</td>\n",
       "      <td>-0.323048</td>\n",
       "      <td>-1.083814</td>\n",
       "      <td>0.049838</td>\n",
       "      <td>-0.002872</td>\n",
       "      <td>0.295810</td>\n",
       "      <td>0.135883</td>\n",
       "      <td>-0.074191</td>\n",
       "      <td>0.004364</td>\n",
       "      <td>-0.150527</td>\n",
       "      <td>0</td>\n",
       "    </tr>\n",
       "  </tbody>\n",
       "</table>\n",
       "<p>6 rows × 30 columns</p>\n",
       "</div>"
      ],
      "text/plain": [
       "         V1        V2        V3        V4        V5        V6        V7  \\\n",
       "0  1.836500 -0.545419 -0.462979  0.537174 -0.426143 -0.100606 -0.584764   \n",
       "1 -4.289880 -2.576061 -0.092256  1.976405  2.810033 -2.669128 -0.981883   \n",
       "2  1.131318  0.139818  0.586921  1.069291 -0.334908 -0.204938 -0.135526   \n",
       "3 -0.866956  1.373947  1.948343  2.686750 -0.366790  0.568632 -0.278349   \n",
       "4 -0.842670  1.401843  0.927235  1.070402  0.843883  0.467333  0.366716   \n",
       "5  1.178458  0.166055 -0.101567  0.369453  0.017198 -0.722891  0.396639   \n",
       "\n",
       "         V8        V9       V10  ...         V21       V22       V23  \\\n",
       "0 -0.103956  2.268429 -0.365185  ...    0.085111  0.410736  0.137625   \n",
       "1 -0.470310 -0.025692  0.099528  ...   -0.473240 -0.307295 -2.789549   \n",
       "2  0.043821 -0.121117  0.182139  ...   -0.028126 -0.167062 -0.048054   \n",
       "3  0.739536 -1.655955  0.708396  ...    0.022719 -0.070619 -0.080307   \n",
       "4  0.616739 -1.586963  0.000041  ...    0.036573 -0.182581 -0.226834   \n",
       "5 -0.187978 -0.483147  0.083094  ...   -0.323048 -1.083814  0.049838   \n",
       "\n",
       "        V24       V25       V26       V27       V28    Amount  Class  \n",
       "0  0.602906 -0.350260  0.464407 -0.070917 -0.030486  0.049882      0  \n",
       "1  0.578976 -0.837979  0.372843  0.353451 -1.662202 -0.347171      0  \n",
       "2 -0.009912  0.417694 -0.479793  0.024360  0.023878 -0.208963      0  \n",
       "3  0.000816  0.092167  0.159131  0.157940 -0.014370 -0.253595      0  \n",
       "4 -1.029794 -0.118762 -0.228960 -0.024250  0.046547 -0.346230      0  \n",
       "5 -0.002872  0.295810  0.135883 -0.074191  0.004364 -0.150527      0  \n",
       "\n",
       "[6 rows x 30 columns]"
      ]
     },
     "execution_count": 78,
     "metadata": {},
     "output_type": "execute_result"
    }
   ],
   "source": [
    "#Looking at a sample of records\n",
    "data.head(6)"
   ]
  },
  {
   "cell_type": "code",
   "execution_count": 79,
   "metadata": {},
   "outputs": [],
   "source": [
    "from sklearn.model_selection import train_test_split"
   ]
  },
  {
   "cell_type": "code",
   "execution_count": 80,
   "metadata": {},
   "outputs": [],
   "source": [
    "#Converting data to array\n",
    "data = np.array(data)"
   ]
  },
  {
   "cell_type": "code",
   "execution_count": 85,
   "metadata": {},
   "outputs": [
    {
     "name": "stdout",
     "output_type": "stream",
     "text": [
      "(80000, 30)\n",
      "(20000, 30)\n"
     ]
    }
   ],
   "source": [
    "#Splitting the data into train and test and observing their dimensions\n",
    "train, test = train_test_split(data, test_size=0.2, random_state=RANDOM_SEED)\n",
    "\n",
    "print(train.shape)\n",
    "print(test.shape)"
   ]
  },
  {
   "cell_type": "code",
   "execution_count": 86,
   "metadata": {},
   "outputs": [
    {
     "name": "stdout",
     "output_type": "stream",
     "text": [
      "(array([0., 1.]), array([79591,   409], dtype=int64))\n",
      "(array([0., 1.]), array([19917,    83], dtype=int64))\n"
     ]
    }
   ],
   "source": [
    "#Obtaining the fraud and non-fraud records in train\n",
    "print(np.unique(train[:,29], return_counts=True))\n",
    "print(np.unique(test[:,29], return_counts=True))"
   ]
  },
  {
   "cell_type": "code",
   "execution_count": 87,
   "metadata": {},
   "outputs": [
    {
     "name": "stdout",
     "output_type": "stream",
     "text": [
      "(79591, 29)\n"
     ]
    }
   ],
   "source": [
    "#Now consider only the non-fraud records for training\n",
    "train_NF = train[train[:,-1] == 0]\n",
    "X_train_NF = train_NF[:,:-1]\n",
    "\n",
    "print(X_train_NF.shape)"
   ]
  },
  {
   "cell_type": "code",
   "execution_count": 88,
   "metadata": {},
   "outputs": [
    {
     "name": "stdout",
     "output_type": "stream",
     "text": [
      "(409, 30)\n"
     ]
    }
   ],
   "source": [
    "#Separating out the fraud records from the train \n",
    "train_F = train[train[:,-1] == 1]\n",
    "print(train_F.shape)"
   ]
  },
  {
   "cell_type": "code",
   "execution_count": 30,
   "metadata": {},
   "outputs": [
    {
     "name": "stdout",
     "output_type": "stream",
     "text": [
      "(20818, 30)\n"
     ]
    }
   ],
   "source": [
    "#Adding/concatinating the fraud records from train data to the test\n",
    "test = np.concatenate((test, train_F),axis=0)\n",
    "print(test.shape)"
   ]
  },
  {
   "cell_type": "code",
   "execution_count": 31,
   "metadata": {},
   "outputs": [],
   "source": [
    "test, eval = train_test_split(test, test_size=0.2, random_state=RANDOM_SEED)"
   ]
  },
  {
   "cell_type": "code",
   "execution_count": 32,
   "metadata": {},
   "outputs": [
    {
     "name": "stdout",
     "output_type": "stream",
     "text": [
      "(16654, 30)\n",
      "(4164, 30)\n"
     ]
    }
   ],
   "source": [
    "print(test.shape)\n",
    "print(eval.shape)"
   ]
  },
  {
   "cell_type": "code",
   "execution_count": 37,
   "metadata": {},
   "outputs": [
    {
     "name": "stdout",
     "output_type": "stream",
     "text": [
      "(15931, 30)\n",
      "(723, 30)\n"
     ]
    }
   ],
   "source": [
    "test_NF=test[test[:,29]==0]\n",
    "print(test_NF.shape)\n",
    "\n",
    "test_F=test[test[:,29]==1]\n",
    "print(test_F.shape)"
   ]
  },
  {
   "cell_type": "code",
   "execution_count": 34,
   "metadata": {},
   "outputs": [],
   "source": [
    "#Separating the independent and the class variable\n",
    "y_test = test[:,-1]\n",
    "X_test = test[:,:-1]"
   ]
  },
  {
   "cell_type": "code",
   "execution_count": 35,
   "metadata": {},
   "outputs": [
    {
     "name": "stdout",
     "output_type": "stream",
     "text": [
      "(16654,)\n",
      "(16654, 1)\n"
     ]
    }
   ],
   "source": [
    "print(y_test.shape)\n",
    "# Expanding the dimensions of y for later concatenation\n",
    "y_test = np.expand_dims(y_test, axis=1)\n",
    "print(y_test.shape)"
   ]
  },
  {
   "cell_type": "code",
   "execution_count": 18,
   "metadata": {},
   "outputs": [],
   "source": [
    "##Removing unnecessary variables\n",
    "del X_train1, X_train2"
   ]
  },
  {
   "cell_type": "markdown",
   "metadata": {},
   "source": [
    "#### Model Building"
   ]
  },
  {
   "cell_type": "code",
   "execution_count": 40,
   "metadata": {},
   "outputs": [],
   "source": [
    "input_dim = X_train.shape[1]\n",
    "encoding_dim = 15"
   ]
  },
  {
   "cell_type": "code",
   "execution_count": 41,
   "metadata": {},
   "outputs": [],
   "source": [
    "autoencoder = Sequential()\n",
    "\n",
    "autoencoder.add(Dropout(0.2, input_shape=(input_dim,)))\n",
    "autoencoder.add(Dense(encoding_dim, activation='relu'))\n",
    "autoencoder.add(Dense(input_dim, activation='linear'))"
   ]
  },
  {
   "cell_type": "code",
   "execution_count": 42,
   "metadata": {},
   "outputs": [
    {
     "name": "stdout",
     "output_type": "stream",
     "text": [
      "WARNING:tensorflow:From C:\\ProgramData\\Anaconda3\\lib\\site-packages\\keras\\backend\\tensorflow_backend.py:1340: calling reduce_mean (from tensorflow.python.ops.math_ops) with keep_dims is deprecated and will be removed in a future version.\n",
      "Instructions for updating:\n",
      "keep_dims is deprecated, use keepdims instead\n"
     ]
    }
   ],
   "source": [
    "autoencoder.compile(optimizer='adam', loss='mean_squared_error', metrics=['mse'])"
   ]
  },
  {
   "cell_type": "code",
   "execution_count": 43,
   "metadata": {},
   "outputs": [
    {
     "name": "stdout",
     "output_type": "stream",
     "text": [
      "Train on 79591 samples, validate on 16654 samples\n",
      "Epoch 1/100\n",
      "79591/79591 [==============================] - 4s 47us/step - loss: 0.5849 - mean_squared_error: 0.5849 - val_loss: 1.1415 - val_mean_squared_error: 1.1415\n",
      "Epoch 2/100\n",
      "79591/79591 [==============================] - 3s 39us/step - loss: 0.3686 - mean_squared_error: 0.3686 - val_loss: 1.1012 - val_mean_squared_error: 1.1012\n",
      "Epoch 3/100\n",
      "79591/79591 [==============================] - 3s 39us/step - loss: 0.3544 - mean_squared_error: 0.3544 - val_loss: 1.0859 - val_mean_squared_error: 1.0859\n",
      "Epoch 4/100\n",
      "79591/79591 [==============================] - 3s 39us/step - loss: 0.3479 - mean_squared_error: 0.3479 - val_loss: 1.0702 - val_mean_squared_error: 1.0702\n",
      "Epoch 5/100\n",
      "79591/79591 [==============================] - 3s 40us/step - loss: 0.3414 - mean_squared_error: 0.3414 - val_loss: 1.0634 - val_mean_squared_error: 1.0634\n",
      "Epoch 6/100\n",
      "79591/79591 [==============================] - 3s 40us/step - loss: 0.3456 - mean_squared_error: 0.3456 - val_loss: 1.0588 - val_mean_squared_error: 1.0588\n",
      "Epoch 7/100\n",
      "79591/79591 [==============================] - 3s 39us/step - loss: 0.3399 - mean_squared_error: 0.3399 - val_loss: 1.0455 - val_mean_squared_error: 1.0455\n",
      "Epoch 8/100\n",
      "79591/79591 [==============================] - 3s 39us/step - loss: 0.3398 - mean_squared_error: 0.3398 - val_loss: 1.0533 - val_mean_squared_error: 1.0533\n",
      "Epoch 9/100\n",
      "79591/79591 [==============================] - 3s 40us/step - loss: 0.3399 - mean_squared_error: 0.3399 - val_loss: 1.0646 - val_mean_squared_error: 1.0646\n",
      "Epoch 10/100\n",
      "79591/79591 [==============================] - 3s 42us/step - loss: 0.3388 - mean_squared_error: 0.3388 - val_loss: 1.0371 - val_mean_squared_error: 1.0371\n",
      "Epoch 11/100\n",
      "79591/79591 [==============================] - 3s 40us/step - loss: 0.3416 - mean_squared_error: 0.3416 - val_loss: 1.0458 - val_mean_squared_error: 1.0458\n",
      "Epoch 12/100\n",
      "79591/79591 [==============================] - 3s 39us/step - loss: 0.3408 - mean_squared_error: 0.3408 - val_loss: 1.0372 - val_mean_squared_error: 1.0372\n",
      "Epoch 13/100\n",
      "79591/79591 [==============================] - 3s 44us/step - loss: 0.3410 - mean_squared_error: 0.3410 - val_loss: 1.0229 - val_mean_squared_error: 1.0229\n",
      "Epoch 14/100\n",
      "79591/79591 [==============================] - 3s 40us/step - loss: 0.3429 - mean_squared_error: 0.3429 - val_loss: 1.0465 - val_mean_squared_error: 1.0465\n",
      "Epoch 15/100\n",
      "79591/79591 [==============================] - 3s 41us/step - loss: 0.3389 - mean_squared_error: 0.3389 - val_loss: 1.0199 - val_mean_squared_error: 1.0199\n",
      "Epoch 16/100\n",
      "79591/79591 [==============================] - 3s 39us/step - loss: 0.3357 - mean_squared_error: 0.3357 - val_loss: 1.0647 - val_mean_squared_error: 1.0647\n",
      "Epoch 17/100\n",
      "79591/79591 [==============================] - 3s 43us/step - loss: 0.3347 - mean_squared_error: 0.3347 - val_loss: 1.0467 - val_mean_squared_error: 1.0467\n",
      "Epoch 18/100\n",
      "79591/79591 [==============================] - 4s 47us/step - loss: 0.3364 - mean_squared_error: 0.3364 - val_loss: 1.0504 - val_mean_squared_error: 1.0504\n",
      "Epoch 19/100\n",
      "79591/79591 [==============================] - 3s 41us/step - loss: 0.3357 - mean_squared_error: 0.3357 - val_loss: 1.0385 - val_mean_squared_error: 1.0385\n",
      "Epoch 20/100\n",
      "79591/79591 [==============================] - 3s 40us/step - loss: 0.3352 - mean_squared_error: 0.3352 - val_loss: 1.0407 - val_mean_squared_error: 1.0407\n",
      "Epoch 21/100\n",
      "79591/79591 [==============================] - 5s 61us/step - loss: 0.3354 - mean_squared_error: 0.3354 - val_loss: 1.0402 - val_mean_squared_error: 1.0402\n",
      "Epoch 22/100\n",
      "79591/79591 [==============================] - 5s 68us/step - loss: 0.3314 - mean_squared_error: 0.3314 - val_loss: 1.0485 - val_mean_squared_error: 1.0485\n",
      "Epoch 23/100\n",
      "79591/79591 [==============================] - 4s 47us/step - loss: 0.3312 - mean_squared_error: 0.3312 - val_loss: 1.0687 - val_mean_squared_error: 1.0687\n",
      "Epoch 24/100\n",
      "79591/79591 [==============================] - 3s 41us/step - loss: 0.3324 - mean_squared_error: 0.3324 - val_loss: 1.0662 - val_mean_squared_error: 1.0662\n",
      "Epoch 25/100\n",
      "79591/79591 [==============================] - 3s 39us/step - loss: 0.3297 - mean_squared_error: 0.3297 - val_loss: 1.0407 - val_mean_squared_error: 1.0407\n",
      "Epoch 26/100\n",
      "79591/79591 [==============================] - 3s 39us/step - loss: 0.3289 - mean_squared_error: 0.3289 - val_loss: 1.0314 - val_mean_squared_error: 1.0314\n",
      "Epoch 27/100\n",
      "79591/79591 [==============================] - 3s 39us/step - loss: 0.3290 - mean_squared_error: 0.3290 - val_loss: 1.0273 - val_mean_squared_error: 1.0273\n",
      "Epoch 28/100\n",
      "79591/79591 [==============================] - 3s 39us/step - loss: 0.3301 - mean_squared_error: 0.3301 - val_loss: 1.0118 - val_mean_squared_error: 1.0118\n",
      "Epoch 29/100\n",
      "79591/79591 [==============================] - 3s 43us/step - loss: 0.3287 - mean_squared_error: 0.3287 - val_loss: 1.0141 - val_mean_squared_error: 1.0141\n",
      "Epoch 30/100\n",
      "79591/79591 [==============================] - 3s 40us/step - loss: 0.3340 - mean_squared_error: 0.3340 - val_loss: 1.0271 - val_mean_squared_error: 1.0271\n",
      "Epoch 31/100\n",
      "79591/79591 [==============================] - 3s 39us/step - loss: 0.3318 - mean_squared_error: 0.3318 - val_loss: 1.0436 - val_mean_squared_error: 1.0436\n",
      "Epoch 32/100\n",
      "79591/79591 [==============================] - 3s 40us/step - loss: 0.3280 - mean_squared_error: 0.3280 - val_loss: 1.0231 - val_mean_squared_error: 1.0231\n",
      "Epoch 33/100\n",
      "79591/79591 [==============================] - 3s 42us/step - loss: 0.3334 - mean_squared_error: 0.3334 - val_loss: 1.0483 - val_mean_squared_error: 1.0483\n",
      "Epoch 34/100\n",
      "79591/79591 [==============================] - 3s 39us/step - loss: 0.3313 - mean_squared_error: 0.3313 - val_loss: 1.0429 - val_mean_squared_error: 1.0429\n",
      "Epoch 35/100\n",
      "79591/79591 [==============================] - 3s 41us/step - loss: 0.3281 - mean_squared_error: 0.3281 - val_loss: 1.0372 - val_mean_squared_error: 1.0372\n",
      "Epoch 36/100\n",
      "79591/79591 [==============================] - 5s 64us/step - loss: 0.3314 - mean_squared_error: 0.3314 - val_loss: 1.0358 - val_mean_squared_error: 1.0358\n",
      "Epoch 37/100\n",
      "79591/79591 [==============================] - 3s 43us/step - loss: 0.3315 - mean_squared_error: 0.3315 - val_loss: 1.0477 - val_mean_squared_error: 1.0477\n",
      "Epoch 38/100\n",
      "79591/79591 [==============================] - 4s 46us/step - loss: 0.3299 - mean_squared_error: 0.3299 - val_loss: 1.0597 - val_mean_squared_error: 1.0597\n",
      "Epoch 39/100\n",
      "79591/79591 [==============================] - 3s 44us/step - loss: 0.3313 - mean_squared_error: 0.3313 - val_loss: 1.0292 - val_mean_squared_error: 1.0292\n",
      "Epoch 40/100\n",
      "79591/79591 [==============================] - 4s 48us/step - loss: 0.3293 - mean_squared_error: 0.3293 - val_loss: 1.0598 - val_mean_squared_error: 1.0598\n",
      "Epoch 41/100\n",
      "79591/79591 [==============================] - 4s 45us/step - loss: 0.3296 - mean_squared_error: 0.3296 - val_loss: 1.0455 - val_mean_squared_error: 1.0455\n",
      "Epoch 42/100\n",
      "79591/79591 [==============================] - 3s 39us/step - loss: 0.3278 - mean_squared_error: 0.3278 - val_loss: 1.0185 - val_mean_squared_error: 1.0185\n",
      "Epoch 43/100\n",
      "79591/79591 [==============================] - 3s 39us/step - loss: 0.3334 - mean_squared_error: 0.3334 - val_loss: 1.0288 - val_mean_squared_error: 1.0288\n",
      "Epoch 44/100\n",
      "79591/79591 [==============================] - 3s 40us/step - loss: 0.3290 - mean_squared_error: 0.3290 - val_loss: 1.0163 - val_mean_squared_error: 1.0163\n",
      "Epoch 45/100\n",
      "79591/79591 [==============================] - 3s 40us/step - loss: 0.3338 - mean_squared_error: 0.3338 - val_loss: 1.0131 - val_mean_squared_error: 1.0131\n",
      "Epoch 46/100\n",
      "79591/79591 [==============================] - 3s 39us/step - loss: 0.3318 - mean_squared_error: 0.3318 - val_loss: 1.0266 - val_mean_squared_error: 1.0266\n",
      "Epoch 47/100\n",
      "79591/79591 [==============================] - 3s 41us/step - loss: 0.3308 - mean_squared_error: 0.3308 - val_loss: 1.0384 - val_mean_squared_error: 1.0384\n",
      "Epoch 48/100\n",
      "79591/79591 [==============================] - 3s 38us/step - loss: 0.3304 - mean_squared_error: 0.3304 - val_loss: 1.0097 - val_mean_squared_error: 1.0097\n",
      "Epoch 49/100\n",
      "79591/79591 [==============================] - 3s 40us/step - loss: 0.3310 - mean_squared_error: 0.3310 - val_loss: 1.0223 - val_mean_squared_error: 1.0223\n",
      "Epoch 50/100\n",
      "79591/79591 [==============================] - 3s 40us/step - loss: 0.3274 - mean_squared_error: 0.3274 - val_loss: 1.0390 - val_mean_squared_error: 1.0390\n",
      "Epoch 51/100\n",
      "79591/79591 [==============================] - 3s 38us/step - loss: 0.3296 - mean_squared_error: 0.3296 - val_loss: 1.0222 - val_mean_squared_error: 1.0222\n",
      "Epoch 52/100\n",
      "79591/79591 [==============================] - 3s 40us/step - loss: 0.3286 - mean_squared_error: 0.3286 - val_loss: 1.0474 - val_mean_squared_error: 1.0474\n",
      "Epoch 53/100\n",
      "79591/79591 [==============================] - 3s 41us/step - loss: 0.3272 - mean_squared_error: 0.3272 - val_loss: 1.0251 - val_mean_squared_error: 1.0251\n",
      "Epoch 54/100\n",
      "79591/79591 [==============================] - 3s 39us/step - loss: 0.3323 - mean_squared_error: 0.3323 - val_loss: 1.0259 - val_mean_squared_error: 1.0259\n",
      "Epoch 55/100\n",
      "79591/79591 [==============================] - 3s 39us/step - loss: 0.3306 - mean_squared_error: 0.3306 - val_loss: 1.0248 - val_mean_squared_error: 1.0248\n",
      "Epoch 56/100\n",
      "79591/79591 [==============================] - 3s 42us/step - loss: 0.3289 - mean_squared_error: 0.3289 - val_loss: 1.0621 - val_mean_squared_error: 1.0621\n",
      "Epoch 57/100\n",
      "79591/79591 [==============================] - 3s 43us/step - loss: 0.3288 - mean_squared_error: 0.3288 - val_loss: 1.0649 - val_mean_squared_error: 1.0649\n",
      "Epoch 58/100\n",
      "79591/79591 [==============================] - 3s 40us/step - loss: 0.3288 - mean_squared_error: 0.3288 - val_loss: 1.0226 - val_mean_squared_error: 1.0226\n",
      "Epoch 59/100\n",
      "79591/79591 [==============================] - 3s 39us/step - loss: 0.3269 - mean_squared_error: 0.3269 - val_loss: 1.0394 - val_mean_squared_error: 1.0394\n",
      "Epoch 60/100\n",
      "79591/79591 [==============================] - 3s 39us/step - loss: 0.3312 - mean_squared_error: 0.3312 - val_loss: 1.0262 - val_mean_squared_error: 1.0262\n",
      "Epoch 61/100\n",
      "79591/79591 [==============================] - 3s 42us/step - loss: 0.3274 - mean_squared_error: 0.3274 - val_loss: 1.0263 - val_mean_squared_error: 1.0263\n",
      "Epoch 62/100\n",
      "79591/79591 [==============================] - 3s 41us/step - loss: 0.3293 - mean_squared_error: 0.3293 - val_loss: 1.0140 - val_mean_squared_error: 1.0140\n",
      "Epoch 63/100\n",
      "79591/79591 [==============================] - 3s 40us/step - loss: 0.3255 - mean_squared_error: 0.3255 - val_loss: 1.0040 - val_mean_squared_error: 1.0040\n",
      "Epoch 64/100\n",
      "79591/79591 [==============================] - 3s 40us/step - loss: 0.3281 - mean_squared_error: 0.3281 - val_loss: 1.0764 - val_mean_squared_error: 1.0764\n",
      "Epoch 65/100\n",
      "79591/79591 [==============================] - 3s 40us/step - loss: 0.3276 - mean_squared_error: 0.3276 - val_loss: 1.0213 - val_mean_squared_error: 1.0213\n",
      "Epoch 66/100\n",
      "79591/79591 [==============================] - 3s 40us/step - loss: 0.3231 - mean_squared_error: 0.3231 - val_loss: 1.0109 - val_mean_squared_error: 1.0109\n",
      "Epoch 67/100\n",
      "79591/79591 [==============================] - 3s 39us/step - loss: 0.3246 - mean_squared_error: 0.3246 - val_loss: 1.0127 - val_mean_squared_error: 1.0127\n",
      "Epoch 68/100\n",
      "79591/79591 [==============================] - 3s 40us/step - loss: 0.3256 - mean_squared_error: 0.3256 - val_loss: 1.0442 - val_mean_squared_error: 1.0442\n",
      "Epoch 69/100\n",
      "79591/79591 [==============================] - 3s 39us/step - loss: 0.3247 - mean_squared_error: 0.3247 - val_loss: 1.0410 - val_mean_squared_error: 1.0410\n",
      "Epoch 70/100\n",
      "79591/79591 [==============================] - 3s 39us/step - loss: 0.3254 - mean_squared_error: 0.3254 - val_loss: 1.0392 - val_mean_squared_error: 1.0392\n",
      "Epoch 71/100\n",
      "79591/79591 [==============================] - 3s 40us/step - loss: 0.3245 - mean_squared_error: 0.3245 - val_loss: 1.0413 - val_mean_squared_error: 1.0413\n",
      "Epoch 72/100\n",
      "79591/79591 [==============================] - 3s 42us/step - loss: 0.3238 - mean_squared_error: 0.3238 - val_loss: 1.0318 - val_mean_squared_error: 1.0318\n",
      "Epoch 73/100\n",
      "79591/79591 [==============================] - 3s 41us/step - loss: 0.3218 - mean_squared_error: 0.3218 - val_loss: 1.0646 - val_mean_squared_error: 1.0646\n",
      "Epoch 74/100\n",
      "79591/79591 [==============================] - 3s 40us/step - loss: 0.3254 - mean_squared_error: 0.3254 - val_loss: 1.0340 - val_mean_squared_error: 1.0340\n",
      "Epoch 75/100\n",
      "79591/79591 [==============================] - 3s 41us/step - loss: 0.3298 - mean_squared_error: 0.3298 - val_loss: 1.0164 - val_mean_squared_error: 1.0164\n",
      "Epoch 76/100\n",
      "79591/79591 [==============================] - 3s 43us/step - loss: 0.3251 - mean_squared_error: 0.3251 - val_loss: 1.0250 - val_mean_squared_error: 1.0250\n",
      "Epoch 77/100\n",
      "79591/79591 [==============================] - 3s 43us/step - loss: 0.3222 - mean_squared_error: 0.3222 - val_loss: 1.0310 - val_mean_squared_error: 1.0310\n",
      "Epoch 78/100\n",
      "79591/79591 [==============================] - 3s 42us/step - loss: 0.3249 - mean_squared_error: 0.3249 - val_loss: 1.0268 - val_mean_squared_error: 1.0268\n",
      "Epoch 79/100\n",
      "79591/79591 [==============================] - 3s 41us/step - loss: 0.3245 - mean_squared_error: 0.3245 - val_loss: 1.0440 - val_mean_squared_error: 1.0440\n",
      "Epoch 80/100\n",
      "79591/79591 [==============================] - 3s 41us/step - loss: 0.3243 - mean_squared_error: 0.3243 - val_loss: 1.0368 - val_mean_squared_error: 1.0368\n",
      "Epoch 81/100\n",
      "79591/79591 [==============================] - 3s 41us/step - loss: 0.3229 - mean_squared_error: 0.3229 - val_loss: 1.0473 - val_mean_squared_error: 1.0473\n",
      "Epoch 82/100\n",
      "79591/79591 [==============================] - 3s 43us/step - loss: 0.3241 - mean_squared_error: 0.3241 - val_loss: 1.0555 - val_mean_squared_error: 1.0555\n",
      "Epoch 83/100\n",
      "79591/79591 [==============================] - 3s 41us/step - loss: 0.3248 - mean_squared_error: 0.3248 - val_loss: 1.0403 - val_mean_squared_error: 1.0403\n",
      "Epoch 84/100\n",
      "79591/79591 [==============================] - 3s 41us/step - loss: 0.3246 - mean_squared_error: 0.3246 - val_loss: 1.0496 - val_mean_squared_error: 1.0496\n",
      "Epoch 85/100\n",
      "79591/79591 [==============================] - 4s 47us/step - loss: 0.3257 - mean_squared_error: 0.3257 - val_loss: 1.0463 - val_mean_squared_error: 1.0463\n",
      "Epoch 86/100\n",
      "79591/79591 [==============================] - 3s 42us/step - loss: 0.3241 - mean_squared_error: 0.3241 - val_loss: 1.0280 - val_mean_squared_error: 1.0280\n",
      "Epoch 87/100\n",
      "79591/79591 [==============================] - 3s 42us/step - loss: 0.3270 - mean_squared_error: 0.3270 - val_loss: 1.0494 - val_mean_squared_error: 1.0494\n",
      "Epoch 88/100\n",
      "79591/79591 [==============================] - 4s 46us/step - loss: 0.3268 - mean_squared_error: 0.3268 - val_loss: 1.0635 - val_mean_squared_error: 1.0635\n",
      "Epoch 89/100\n",
      "79591/79591 [==============================] - 3s 44us/step - loss: 0.3273 - mean_squared_error: 0.3273 - val_loss: 1.0210 - val_mean_squared_error: 1.0210\n",
      "Epoch 90/100\n",
      "79591/79591 [==============================] - 3s 42us/step - loss: 0.3251 - mean_squared_error: 0.3251 - val_loss: 1.0481 - val_mean_squared_error: 1.0481\n",
      "Epoch 91/100\n",
      "79591/79591 [==============================] - 3s 42us/step - loss: 0.3211 - mean_squared_error: 0.3211 - val_loss: 1.0282 - val_mean_squared_error: 1.0282\n",
      "Epoch 92/100\n",
      "79591/79591 [==============================] - 3s 41us/step - loss: 0.3218 - mean_squared_error: 0.3218 - val_loss: 1.0455 - val_mean_squared_error: 1.0455\n",
      "Epoch 93/100\n",
      "79591/79591 [==============================] - 3s 43us/step - loss: 0.3229 - mean_squared_error: 0.3229 - val_loss: 1.0611 - val_mean_squared_error: 1.0611\n",
      "Epoch 94/100\n",
      "79591/79591 [==============================] - 3s 42us/step - loss: 0.3254 - mean_squared_error: 0.3254 - val_loss: 1.0374 - val_mean_squared_error: 1.0374\n",
      "Epoch 95/100\n",
      "79591/79591 [==============================] - 3s 43us/step - loss: 0.3237 - mean_squared_error: 0.3237 - val_loss: 1.0322 - val_mean_squared_error: 1.0322\n",
      "Epoch 96/100\n",
      "79591/79591 [==============================] - 3s 42us/step - loss: 0.3271 - mean_squared_error: 0.3271 - val_loss: 1.0100 - val_mean_squared_error: 1.0100\n",
      "Epoch 97/100\n"
     ]
    },
    {
     "name": "stdout",
     "output_type": "stream",
     "text": [
      "79591/79591 [==============================] - 3s 40us/step - loss: 0.3314 - mean_squared_error: 0.3314 - val_loss: 1.0226 - val_mean_squared_error: 1.0226\n",
      "Epoch 98/100\n",
      "79591/79591 [==============================] - 3s 40us/step - loss: 0.3278 - mean_squared_error: 0.3278 - val_loss: 1.0569 - val_mean_squared_error: 1.0569\n",
      "Epoch 99/100\n",
      "79591/79591 [==============================] - 3s 40us/step - loss: 0.3252 - mean_squared_error: 0.3252 - val_loss: 1.0592 - val_mean_squared_error: 1.0592\n",
      "Epoch 100/100\n",
      "79591/79591 [==============================] - 3s 43us/step - loss: 0.3250 - mean_squared_error: 0.3250 - val_loss: 1.0472 - val_mean_squared_error: 1.0472\n"
     ]
    }
   ],
   "source": [
    "nb_epoch = 100\n",
    "batch_size = 32\n",
    "\n",
    "hist = autoencoder.fit(X_train, X_train,\n",
    "                       epochs = nb_epoch,\n",
    "                       batch_size = batch_size,\n",
    "                       shuffle = True,\n",
    "                       validation_data=(X_test, X_test),\n",
    "                       verbose=1).history"
   ]
  },
  {
   "cell_type": "code",
   "execution_count": 46,
   "metadata": {},
   "outputs": [
    {
     "name": "stdout",
     "output_type": "stream",
     "text": [
      "[1.1414980124107312, 1.1011742395492565, 1.0858539209705707, 1.070169005733128, 1.0633621260969381, 1.058772234396229, 1.0455229310706926, 1.053316095075545, 1.064578316222652, 1.0371330352219352, 1.045774806853215, 1.037178878534294, 1.0228592240128238, 1.046484668429221, 1.0198618830560249, 1.0647260006094403, 1.0466852457394216, 1.0504246912015305, 1.0384534170350723, 1.0407369285249275, 1.0401574307284294, 1.048516213659466, 1.0686641699131532, 1.0662208300965652, 1.0406604666726793, 1.0314396037941036, 1.0272562434543178, 1.0118220671787688, 1.014074742328767, 1.027112230926956, 1.0435631776558933, 1.0231403020968082, 1.048300682288681, 1.0429007580325542, 1.0372424443790689, 1.0357891067341767, 1.0477071515817638, 1.0597005211460184, 1.029217123965606, 1.0598152340678904, 1.045536409766001, 1.018464545970191, 1.0287586540033855, 1.016259136129588, 1.013090559401417, 1.0265999894132416, 1.038360582841993, 1.009672826893965, 1.0223226327401214, 1.0389607996929588, 1.0222453626694334, 1.0473876955168608, 1.0251011324716928, 1.0259179050404583, 1.024849462270436, 1.0621121467963637, 1.064870161146294, 1.022590875094129, 1.0394301610815722, 1.0261502470452057, 1.0263263730566456, 1.0139828546877967, 1.0039940317348943, 1.076418961871067, 1.0212750408963538, 1.0108812907863898, 1.0127033077988346, 1.0442373419192368, 1.041039286664272, 1.0392131778756382, 1.041305734556635, 1.0318406370685527, 1.0646372549678722, 1.034043122441296, 1.0164273077429908, 1.0249811094413073, 1.0310155148084987, 1.0267952369948574, 1.0439624578401336, 1.0368208586257002, 1.0473243464949868, 1.0555339051338752, 1.0403318527302594, 1.04956290003803, 1.0462511660146645, 1.0279833137115768, 1.0493741245906552, 1.0634928985873633, 1.0209888236672564, 1.0480987499606156, 1.0282119575673625, 1.045457887106602, 1.0611185490444413, 1.0373675492333239, 1.032247193843946, 1.0099990433599821, 1.0226061033865435, 1.0568888200704427, 1.0592482983475475, 1.047238069741583]\n"
     ]
    }
   ],
   "source": [
    "print(hist)"
   ]
  },
  {
   "cell_type": "code",
   "execution_count": 47,
   "metadata": {},
   "outputs": [],
   "source": [
    "##To extract outputs from the hidden layer\n",
    "from keras import backend as K\n",
    "layer_output_encoded = K.function([autoencoder.layers[0].input, K.learning_phase()],\n",
    "                                  [autoencoder.layers[1].output])\n"
   ]
  },
  {
   "cell_type": "code",
   "execution_count": 50,
   "metadata": {},
   "outputs": [],
   "source": [
    "encoded = layer_output_encoded([X_train,0])[0]"
   ]
  },
  {
   "cell_type": "code",
   "execution_count": 51,
   "metadata": {},
   "outputs": [],
   "source": [
    "##To extract outputs from the output layer\n",
    "layer_output_decoded = K.function([autoencoder.layers[0].input, K.learning_phase()],\n",
    "                                  [autoencoder.layers[2].output])\n",
    "decoded = layer_output_decoded([X_train, 0])[0]"
   ]
  },
  {
   "cell_type": "code",
   "execution_count": 52,
   "metadata": {},
   "outputs": [],
   "source": [
    "## Making predictions on the train data\n",
    "predictions = autoencoder.predict(X_train)"
   ]
  },
  {
   "cell_type": "code",
   "execution_count": 55,
   "metadata": {},
   "outputs": [
    {
     "name": "stdout",
     "output_type": "stream",
     "text": [
      "15931/15931 [==============================] - 0s 23us/step\n"
     ]
    },
    {
     "data": {
      "text/plain": [
       "[0.22260503138284976, 0.22260503138284976]"
      ]
     },
     "execution_count": 55,
     "metadata": {},
     "output_type": "execute_result"
    }
   ],
   "source": [
    "#Getting the errors from the non fraud data separately \n",
    "autoencoder.evaluate(test_NF[:,:29],test_NF[:,:29])"
   ]
  },
  {
   "cell_type": "code",
   "execution_count": 56,
   "metadata": {},
   "outputs": [
    {
     "name": "stdout",
     "output_type": "stream",
     "text": [
      "723/723 [==============================] - 0s 22us/step\n"
     ]
    },
    {
     "data": {
      "text/plain": [
       "[19.217679494644102, 19.217679494644102]"
      ]
     },
     "execution_count": 56,
     "metadata": {},
     "output_type": "execute_result"
    }
   ],
   "source": [
    "#Getting the errors from the fraud data separately\n",
    "autoencoder.evaluate(test_F[:,:29], test_F[:,:29])"
   ]
  },
  {
   "cell_type": "code",
   "execution_count": 57,
   "metadata": {},
   "outputs": [],
   "source": [
    "#Obtaining predictions for non fraud records\n",
    "predictions_nf=autoencoder.predict(test_NF[:,:29])"
   ]
  },
  {
   "cell_type": "code",
   "execution_count": 58,
   "metadata": {},
   "outputs": [],
   "source": [
    "#Obtaining preictions for fraud records\n",
    "predictions_f=autoencoder.predict(test_F[:,:29])"
   ]
  },
  {
   "cell_type": "code",
   "execution_count": 59,
   "metadata": {},
   "outputs": [
    {
     "data": {
      "text/plain": [
       "0.22260503166568338"
      ]
     },
     "execution_count": 59,
     "metadata": {},
     "output_type": "execute_result"
    }
   ],
   "source": [
    "#Identifying the error computation method by autoencoder(Mean Squared Error). The computation is as follows \n",
    "np.mean(np.square(np.abs(test_NF[:,:29]-predictions_nf)))"
   ]
  },
  {
   "cell_type": "code",
   "execution_count": 60,
   "metadata": {},
   "outputs": [],
   "source": [
    "#Computing errors on the non-fraud data\n",
    "errors_nf = np.mean(np.square(np.abs(test_NF[:,:29]-predictions_nf)), axis=1)"
   ]
  },
  {
   "cell_type": "code",
   "execution_count": 61,
   "metadata": {},
   "outputs": [],
   "source": [
    "#Computing errors on the fraud data\n",
    "errors_f = np.mean(np.square(np.abs(test_F[:,:29]-predictions_f)), axis=1)"
   ]
  },
  {
   "cell_type": "code",
   "execution_count": 62,
   "metadata": {},
   "outputs": [
    {
     "name": "stdout",
     "output_type": "stream",
     "text": [
      "0.01376678802989812\n",
      "96.86401703024154\n",
      "0.1222652686892943\n",
      "0.030997158221118187\n",
      "133.32257056924684\n",
      "7.885572836138521\n"
     ]
    }
   ],
   "source": [
    "#Computing the distribution of errors in both non-fraud and fraud data\n",
    "print(np.min(errors_nf))\n",
    "print(np.max(errors_nf))\n",
    "print(np.median(errors_nf))\n",
    "\n",
    "print(np.min(errors_f))\n",
    "print(np.max(errors_f))\n",
    "print(np.median(errors_f))"
   ]
  },
  {
   "cell_type": "code",
   "execution_count": 63,
   "metadata": {},
   "outputs": [
    {
     "data": {
      "text/plain": [
       "{'boxes': [<matplotlib.lines.Line2D at 0x10b69b21ac8>],\n",
       " 'caps': [<matplotlib.lines.Line2D at 0x10b69b2f518>,\n",
       "  <matplotlib.lines.Line2D at 0x10b69b2f940>],\n",
       " 'fliers': [<matplotlib.lines.Line2D at 0x10b69b421d0>],\n",
       " 'means': [],\n",
       " 'medians': [<matplotlib.lines.Line2D at 0x10b69b2fd68>],\n",
       " 'whiskers': [<matplotlib.lines.Line2D at 0x10b69b21c18>,\n",
       "  <matplotlib.lines.Line2D at 0x10b69b2f0f0>]}"
      ]
     },
     "execution_count": 63,
     "metadata": {},
     "output_type": "execute_result"
    },
    {
     "data": {
      "image/png": "[encoded data removed]",
      "text/plain": [
       "<matplotlib.figure.Figure at 0x10b6aa6a908>"
      ]
     },
     "metadata": {},
     "output_type": "display_data"
    }
   ],
   "source": [
    "#PLotting the error box plots \n",
    "\n",
    "plt.subplot(1, 2, 1)\n",
    "plt.boxplot(errors_f)\n",
    "\n",
    "plt.subplot(1, 2, 2)\n",
    "plt.boxplot(errors_nf)"
   ]
  },
  {
   "cell_type": "code",
   "execution_count": 37,
   "metadata": {},
   "outputs": [
    {
     "name": "stdout",
     "output_type": "stream",
     "text": [
      "19\n",
      "192\n",
      "23\n"
     ]
    },
    {
     "data": {
      "text/plain": [
       "7971"
      ]
     },
     "execution_count": 37,
     "metadata": {},
     "output_type": "execute_result"
    }
   ],
   "source": [
    "#Experimentation to fix a threshold for classification of a transaction into fraud or non-fraud\n",
    "print(sum(errors_nf>np.median(errors_f)))\n",
    "print(sum(errors_f<np.median(errors_f)))\n",
    "print(sum(errors_f<np.median(errors_nf)))\n",
    "sum(errors_nf>np.median(errors_nf))"
   ]
  },
  {
   "cell_type": "code",
   "execution_count": 38,
   "metadata": {},
   "outputs": [
    {
     "name": "stdout",
     "output_type": "stream",
     "text": [
      "(15942,)\n",
      "(385,)\n"
     ]
    }
   ],
   "source": [
    "print(errors_nf.shape)\n",
    "print(errors_f.shape)"
   ]
  },
  {
   "cell_type": "code",
   "execution_count": 39,
   "metadata": {},
   "outputs": [
    {
     "name": "stdout",
     "output_type": "stream",
     "text": [
      "(15942, 29)\n",
      "(385, 29)\n"
     ]
    }
   ],
   "source": [
    "print(predictions_nf.shape)\n",
    "print(predictions_f.shape)"
   ]
  },
  {
   "cell_type": "code",
   "execution_count": 40,
   "metadata": {},
   "outputs": [],
   "source": [
    "test_pred = autoencoder.predict(X_test[:,:29])\n",
    "test_recon  = (((test_pred-X_test)**2).mean(-1))\n",
    "\n",
    "train_pred = autoencoder.predict(X_train[:,:29])\n",
    "mean_recon = (((train_pred - X_train)**2).mean(-1).mean())\n",
    "\n",
    "from sklearn.metrics import precision_score,recall_score,f1_score,confusion_matrix\n",
    "\n",
    "scores_f1 = []\n",
    "thres = []\n",
    "\n",
    "th = 0\n",
    "for i in range(100):\n",
    "    th+=0.1\n",
    "    fraud = (test_recon>mean_recon+th)\n",
    "    scores_f1.append(f1_score(y_test,fraud))\n",
    "    thres.append(th+mean_recon)\n",
    "    "
   ]
  },
  {
   "cell_type": "code",
   "execution_count": 41,
   "metadata": {},
   "outputs": [
    {
     "name": "stdout",
     "output_type": "stream",
     "text": [
      "2.7258824102055743\n"
     ]
    },
    {
     "data": {
      "text/plain": [
       "array([[15873,    69],\n",
       "       [   87,   298]], dtype=int64)"
      ]
     },
     "execution_count": 41,
     "metadata": {},
     "output_type": "execute_result"
    },
    {
     "data": {
      "image/png": "[encoded data removed]",
      "text/plain": [
       "<matplotlib.figure.Figure at 0x1d78ef41fd0>"
      ]
     },
     "metadata": {},
     "output_type": "display_data"
    }
   ],
   "source": [
    "plt.plot(thres, scores_f1)\n",
    "\n",
    "print(thres[np.array(scores_f1).argmax()])\n",
    "\n",
    "fraud = (test_recon>thres[np.array(scores_f1).argmax()])\n",
    "\n",
    "confusion_matrix(y_test, fraud)"
   ]
  },
  {
   "cell_type": "markdown",
   "metadata": {},
   "source": [
    "#### Analysis on individual attribute errors"
   ]
  },
  {
   "cell_type": "code",
   "execution_count": 42,
   "metadata": {},
   "outputs": [
    {
     "name": "stdout",
     "output_type": "stream",
     "text": [
      "(15942, 29)\n"
     ]
    }
   ],
   "source": [
    "#Obtaining errors on individual attributes on non-fraud data\n",
    "ind_errors_nf=np.abs(np.subtract(predictions_nf,test_nf[:,:29]))\n",
    "print(ind_errors_nf.shape)"
   ]
  },
  {
   "cell_type": "code",
   "execution_count": 43,
   "metadata": {},
   "outputs": [
    {
     "name": "stdout",
     "output_type": "stream",
     "text": [
      "(385, 29)\n"
     ]
    }
   ],
   "source": [
    "#Obtaining errors on individual attributes on fraud data\n",
    "ind_errors_f=np.abs(np.subtract(predictions_f,test_f[:,:29]))\n",
    "print(ind_errors_f.shape)"
   ]
  },
  {
   "cell_type": "markdown",
   "metadata": {},
   "source": [
    "#### To check the errors on fraud and non-fraud data across all the attributes"
   ]
  },
  {
   "cell_type": "code",
   "execution_count": 44,
   "metadata": {},
   "outputs": [
    {
     "name": "stdout",
     "output_type": "stream",
     "text": [
      "(16327, 29)\n"
     ]
    }
   ],
   "source": [
    "#Combining all fraud and non-fraud data errors\n",
    "X=np.concatenate((ind_errors_f,ind_errors_nf),axis=0)\n",
    "print(X.shape)"
   ]
  },
  {
   "cell_type": "code",
   "execution_count": 45,
   "metadata": {},
   "outputs": [],
   "source": [
    "#Creating a target column\n",
    "x=np.array([1,0])\n",
    "Y=np.repeat(x,[385,15942])"
   ]
  },
  {
   "cell_type": "code",
   "execution_count": 46,
   "metadata": {},
   "outputs": [
    {
     "name": "stdout",
     "output_type": "stream",
     "text": [
      "(16327,)\n",
      "(16327, 1)\n"
     ]
    }
   ],
   "source": [
    "#Expanding the shape of the target for merging with all other attributes\n",
    "print(Y.shape)\n",
    "Y = np.expand_dims(Y, axis=1)\n",
    "print(Y.shape)"
   ]
  },
  {
   "cell_type": "code",
   "execution_count": 47,
   "metadata": {},
   "outputs": [
    {
     "name": "stdout",
     "output_type": "stream",
     "text": [
      "(16327, 30)\n"
     ]
    }
   ],
   "source": [
    "#Concatenating all the attribute errors with target class\n",
    "X=np.concatenate((X,Y),axis=1)\n",
    "print(X.shape)"
   ]
  },
  {
   "cell_type": "code",
   "execution_count": 48,
   "metadata": {},
   "outputs": [],
   "source": [
    "#Creating a data frame and naming the columns\n",
    "X=pd.DataFrame(X)\n",
    "X.columns = map(str, range(X.shape[1]))"
   ]
  },
  {
   "cell_type": "code",
   "execution_count": 49,
   "metadata": {},
   "outputs": [
    {
     "data": {
      "text/html": [
       "<div>\n",
       "<style scoped>\n",
       "    .dataframe tbody tr th:only-of-type {\n",
       "        vertical-align: middle;\n",
       "    }\n",
       "\n",
       "    .dataframe tbody tr th {\n",
       "        vertical-align: top;\n",
       "    }\n",
       "\n",
       "    .dataframe thead th {\n",
       "        text-align: right;\n",
       "    }\n",
       "</style>\n",
       "<table border=\"1\" class=\"dataframe\">\n",
       "  <thead>\n",
       "    <tr style=\"text-align: right;\">\n",
       "      <th></th>\n",
       "      <th>29</th>\n",
       "      <th>var</th>\n",
       "      <th>value</th>\n",
       "    </tr>\n",
       "  </thead>\n",
       "  <tbody>\n",
       "    <tr>\n",
       "      <th>0</th>\n",
       "      <td>1.0</td>\n",
       "      <td>0</td>\n",
       "      <td>11.927836</td>\n",
       "    </tr>\n",
       "    <tr>\n",
       "      <th>1</th>\n",
       "      <td>1.0</td>\n",
       "      <td>0</td>\n",
       "      <td>11.011894</td>\n",
       "    </tr>\n",
       "    <tr>\n",
       "      <th>2</th>\n",
       "      <td>1.0</td>\n",
       "      <td>0</td>\n",
       "      <td>3.057981</td>\n",
       "    </tr>\n",
       "    <tr>\n",
       "      <th>3</th>\n",
       "      <td>1.0</td>\n",
       "      <td>0</td>\n",
       "      <td>1.337674</td>\n",
       "    </tr>\n",
       "    <tr>\n",
       "      <th>4</th>\n",
       "      <td>1.0</td>\n",
       "      <td>0</td>\n",
       "      <td>10.683096</td>\n",
       "    </tr>\n",
       "  </tbody>\n",
       "</table>\n",
       "</div>"
      ],
      "text/plain": [
       "    29 var      value\n",
       "0  1.0   0  11.927836\n",
       "1  1.0   0  11.011894\n",
       "2  1.0   0   3.057981\n",
       "3  1.0   0   1.337674\n",
       "4  1.0   0  10.683096"
      ]
     },
     "execution_count": 49,
     "metadata": {},
     "output_type": "execute_result"
    }
   ],
   "source": [
    "#Melting the data for box plot visualization\n",
    "M = pd.melt(X, \"29\", var_name=\"var\", value_name=\"value\")\n",
    "M['29'].astype('category')\n",
    "M.head()"
   ]
  },
  {
   "cell_type": "markdown",
   "metadata": {},
   "source": [
    "#### Plotting the errors of fraud and non-fraud transactions across attributes"
   ]
  },
  {
   "cell_type": "code",
   "execution_count": 50,
   "metadata": {},
   "outputs": [
    {
     "data": {
      "text/plain": [
       "<seaborn.axisgrid.FacetGrid at 0x1d793a779e8>"
      ]
     },
     "execution_count": 50,
     "metadata": {},
     "output_type": "execute_result"
    },
    {
     "data": {
      "image/png": "[encoded data removed]",
      "text/plain": [
       "<matplotlib.figure.Figure at 0x1d79133d668>"
      ]
     },
     "metadata": {},
     "output_type": "display_data"
    },
    {
     "data": {
      "image/png": "[encoded data removed]",
      "text/plain": [
       "<matplotlib.figure.Figure at 0x1d793a77b00>"
      ]
     },
     "metadata": {},
     "output_type": "display_data"
    }
   ],
   "source": [
    "import seaborn as sns\n",
    "size=(20,15)\n",
    "fig,ax = plt.subplots(figsize=size)\n",
    "# the size of A4 paper\n",
    "sns.factorplot(x=\"var\", y='value', hue=\"29\", data=M, kind='box',ax=ax)"
   ]
  },
  {
   "cell_type": "markdown",
   "metadata": {},
   "source": [
    "#### Looking at the box plots it is evident that there is a huge difference in errors of fraud and non-fraud  in attributes 10,11,12,14,and 17. Observing errors only on those attributes"
   ]
  },
  {
   "cell_type": "code",
   "execution_count": 51,
   "metadata": {},
   "outputs": [
    {
     "data": {
      "text/plain": [
       "array([0.15792441, 0.1675072 , 0.1536612 , 0.14556115, 0.34695698])"
      ]
     },
     "execution_count": 51,
     "metadata": {},
     "output_type": "execute_result"
    }
   ],
   "source": [
    "pred_nf=ind_errors_nf[:,[9,10,11,13,16]]\n",
    "np.mean(pred_nf,axis=0)"
   ]
  },
  {
   "cell_type": "code",
   "execution_count": 52,
   "metadata": {},
   "outputs": [
    {
     "data": {
      "text/plain": [
       "array([5.32900408, 3.6867657 , 6.22002909, 5.51481012, 8.05822509])"
      ]
     },
     "execution_count": 52,
     "metadata": {},
     "output_type": "execute_result"
    }
   ],
   "source": [
    "pred_f=ind_errors_f[:,[9,10,11,13,16]]\n",
    "np.mean(pred_f,axis=0)"
   ]
  },
  {
   "cell_type": "markdown",
   "metadata": {},
   "source": [
    "#### Looking at the percentile distribution of errors"
   ]
  },
  {
   "cell_type": "code",
   "execution_count": 53,
   "metadata": {},
   "outputs": [],
   "source": [
    "#Percentile distribution of absolute errors\n",
    "percentile_nf=np.percentile(ind_errors_nf[:,[9,10,11,13,16]],[10,20,30,40,50,60,70,80,90,100],axis=0)"
   ]
  },
  {
   "cell_type": "code",
   "execution_count": 54,
   "metadata": {},
   "outputs": [
    {
     "data": {
      "text/plain": [
       "array([0.05304367, 0.1055651 , 0.15842287, 0.21233001, 0.27295056,\n",
       "       0.34626241, 0.43164352, 0.53686982, 0.72160045, 9.46324568])"
      ]
     },
     "execution_count": 54,
     "metadata": {},
     "output_type": "execute_result"
    }
   ],
   "source": [
    "percentile_nf[:,4]"
   ]
  },
  {
   "cell_type": "code",
   "execution_count": 55,
   "metadata": {},
   "outputs": [],
   "source": [
    "percentile_f=np.percentile(ind_errors_f[:,[9,10,11,13,16]],[10,20,30,40,50,60,70,80,90,100],axis=0)"
   ]
  },
  {
   "cell_type": "code",
   "execution_count": 56,
   "metadata": {},
   "outputs": [
    {
     "data": {
      "text/plain": [
       "array([ 0.33961349,  1.31103747,  4.334353  ,  5.15086505,  6.57286984,\n",
       "        8.2005543 ,  9.76932455, 15.54339036, 18.4393735 , 24.26010371])"
      ]
     },
     "execution_count": 56,
     "metadata": {},
     "output_type": "execute_result"
    }
   ],
   "source": [
    "percentile_f[:,4]"
   ]
  },
  {
   "cell_type": "markdown",
   "metadata": {},
   "source": [
    "#### For 17th arrtibute,  the 20th percentile error on fraud is 2.48 and less than 10 percent of the values from non-fraud exist above this value. Setting this as the threshold for fraud classification"
   ]
  },
  {
   "cell_type": "code",
   "execution_count": 57,
   "metadata": {},
   "outputs": [],
   "source": [
    "thr=1.36\n",
    "test_pred = autoencoder.predict(X_test)"
   ]
  },
  {
   "cell_type": "code",
   "execution_count": 58,
   "metadata": {},
   "outputs": [],
   "source": [
    "recon_error= np.abs(np.subtract(test_pred,X_test[:,:29]))"
   ]
  },
  {
   "cell_type": "code",
   "execution_count": 59,
   "metadata": {},
   "outputs": [
    {
     "data": {
      "text/plain": [
       "(16327, 29)"
      ]
     },
     "execution_count": 59,
     "metadata": {},
     "output_type": "execute_result"
    }
   ],
   "source": [
    "recon_error.shape"
   ]
  },
  {
   "cell_type": "code",
   "execution_count": 60,
   "metadata": {},
   "outputs": [
    {
     "name": "stdout",
     "output_type": "stream",
     "text": [
      "0.7948051948051948\n",
      "0.9870967741935484\n",
      "0.9949163961536106\n"
     ]
    }
   ],
   "source": [
    "from sklearn.metrics import precision_score,recall_score,accuracy_score,confusion_matrix\n",
    "fraud = (recon_error[:,16]>2.44)\n",
    "print(recall_score(y_test,fraud))\n",
    "print(precision_score(y_test,fraud))\n",
    "print(accuracy_score(y_test,fraud))"
   ]
  },
  {
   "cell_type": "code",
   "execution_count": 61,
   "metadata": {},
   "outputs": [
    {
     "name": "stdout",
     "output_type": "stream",
     "text": [
      "[[15938     4]\n",
      " [   79   306]]\n"
     ]
    }
   ],
   "source": [
    "print(confusion_matrix(y_true=y_test,y_pred=fraud))"
   ]
  },
  {
   "cell_type": "markdown",
   "metadata": {
    "collapsed": true
   },
   "source": [
    "#### Testing on evaluation data"
   ]
  },
  {
   "cell_type": "code",
   "execution_count": 62,
   "metadata": {},
   "outputs": [],
   "source": [
    "predictions_eval=autoencoder.predict(X_eval[:,:29])"
   ]
  },
  {
   "cell_type": "code",
   "execution_count": 63,
   "metadata": {},
   "outputs": [],
   "source": [
    "ind_errors_eval=np.abs(np.subtract(predictions_eval,X_eval[:,:29]))"
   ]
  },
  {
   "cell_type": "code",
   "execution_count": 64,
   "metadata": {},
   "outputs": [
    {
     "name": "stdout",
     "output_type": "stream",
     "text": [
      "0.822429906542056\n",
      "1.0\n",
      "0.9953454189122979\n",
      "0.9025641025641025\n"
     ]
    }
   ],
   "source": [
    "fraud_eval=ind_errors_eval[:,16]>2.44\n",
    "print(recall_score(X_eval[:,29],fraud_eval))\n",
    "print(precision_score(X_eval[:,29],fraud_eval))\n",
    "print(accuracy_score(X_eval[:,29],fraud_eval))\n",
    "print(f1_score(X_eval[:,29],fraud_eval))"
   ]
  },
  {
   "cell_type": "code",
   "execution_count": 65,
   "metadata": {},
   "outputs": [
    {
     "name": "stdout",
     "output_type": "stream",
     "text": [
      "[[3975    0]\n",
      " [  19   88]]\n"
     ]
    }
   ],
   "source": [
    "print(confusion_matrix(y_true=X_eval[:,29],y_pred=fraud_eval))"
   ]
  }
 ],
 "metadata": {
  "kernelspec": {
   "display_name": "Python 3",
   "language": "python",
   "name": "python3"
  },
  "language_info": {
   "codemirror_mode": {
    "name": "ipython",
    "version": 3
   },
   "file_extension": ".py",
   "mimetype": "text/x-python",
   "name": "python",
   "nbconvert_exporter": "python",
   "pygments_lexer": "ipython3",
   "version": "3.6.4"
  }
 },
 "nbformat": 4,
 "nbformat_minor": 2
}
