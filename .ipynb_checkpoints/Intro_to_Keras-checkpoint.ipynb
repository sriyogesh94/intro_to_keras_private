{
 "cells": [
  {
   "cell_type": "markdown",
   "metadata": {},
   "source": [
    "# Introduction to Keras"
   ]
  },
  {
   "cell_type": "markdown",
   "metadata": {},
   "source": [
    "## Tools in the Deep Learning Ecosystem\n",
    "\n",
    "<img src=\"img/deep_learning_ecosystem.jpeg\" />\n",
    "\n",
    "<br />\n",
    "\n",
    "* Hardware GPU vs CPU: At the core hardware level, we have CPUs and GPUs executing instructions. \n",
    "\n",
    "    <br />\n",
    "\n",
    "    * A CPU is able to execute large, sequential instructions but can only execute a small number of instructions parallelly\n",
    "    \n",
    "    <br />\n",
    "    \n",
    "    * A GPU can execute hundreds of small instructions parallelly\n",
    "    \n",
    "<img src = 'img/cpu_vs_gpu.png' />\n",
    "\n",
    "* For deep learning where we have to do a bunch of linear algebraic computations parallelly, GPUs are exponentially faster than CPUs\n",
    "\n",
    "<br />\n",
    "\n",
    "* Compute Libraries BLAS and CUDA\n",
    "\n",
    "    <br />\n",
    "    \n",
    "    * \n",
    "\n",
    "<br />\n",
    "\n",
    "* Libraries with support for Autodifferentiation to help in gradient computation Tensorflow and CNTK\n",
    "\n",
    "<br />\n",
    "\n",
    "<img src='img/deep_learning_frameworks.png' />\n",
    "\n",
    "<br />\n",
    "\n",
    "* Keras"
   ]
  },
  {
   "cell_type": "markdown",
   "metadata": {},
   "source": [
    "## The Building Blocks of Neural Networks\n",
    "\n",
    "<br />\n",
    "\n",
    "* __Layers__: logically grouped operations in a neural network, the parameters for the operations in the layer learn to generate the best features to predict the target\n",
    " \n",
    "<img src='img/nn_layers.jpeg' width='400px'/>\n",
    "\n",
    "<img src='img/nn_layer_operations.png' width='650px'/>\n",
    "\n",
    "<br />\n",
    "\n",
    "* The network needs to have __input data__ and corresponding __targets (y)__\n",
    "\n",
    "<br />\n",
    "\n",
    "* __Activation function__ that adds non linearity\n",
    "\n",
    "<br />\n",
    " \n",
    "* The loss function, which defines the feedback signal used for learning\n",
    "\n",
    "<br />\n",
    " \n",
    "* The optimizer, which determines how learning proceeds\n",
    "\n",
    "<br />"
   ]
  },
  {
   "cell_type": "markdown",
   "metadata": {},
   "source": [
    "## The Keras Interface\n",
    "\n",
    "<br />\n",
    "\n",
    "<img src=\"img/functional_api_bimodal_network.png\" width='450px'/>\n",
    "\n",
    "<br />\n",
    "\n",
    "<img src=\"img/keras_interface.jpg\" width='550px'/>"
   ]
  },
  {
   "cell_type": "markdown",
   "metadata": {},
   "source": [
    "## Layers in Keras"
   ]
  },
  {
   "cell_type": "code",
   "execution_count": null,
   "metadata": {},
   "outputs": [],
   "source": []
  },
  {
   "cell_type": "code",
   "execution_count": null,
   "metadata": {},
   "outputs": [],
   "source": []
  },
  {
   "cell_type": "code",
   "execution_count": null,
   "metadata": {},
   "outputs": [],
   "source": []
  },
  {
   "cell_type": "code",
   "execution_count": null,
   "metadata": {},
   "outputs": [],
   "source": []
  }
 ],
 "metadata": {
  "kernelspec": {
   "display_name": "Python 3",
   "language": "python",
   "name": "python3"
  },
  "language_info": {
   "codemirror_mode": {
    "name": "ipython",
    "version": 3
   },
   "file_extension": ".py",
   "mimetype": "text/x-python",
   "name": "python",
   "nbconvert_exporter": "python",
   "pygments_lexer": "ipython3",
   "version": "3.6.4"
  }
 },
 "nbformat": 4,
 "nbformat_minor": 2
}
